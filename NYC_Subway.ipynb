{
 "cells": [
  {
   "cell_type": "markdown",
   "metadata": {},
   "source": [
    "# Project 2 - Analyzing the NYC Subway Dataset\n",
    "'''\n",
    "Created by Laura Uzcategui \n",
    "Date : 30 Sept 2015 \n",
    "\n",
    "Modified: \n",
    "Iteration 1 - 17 Oct 2015 - Changes to Hypothesis, Plots labeling and Conclusions.\n",
    "'''\n"
   ]
  },
  {
   "cell_type": "markdown",
   "metadata": {},
   "source": [
    "# Subway Ridership \n",
    "\n",
    "Subway ridership consists of all passengers (other than NYC Transit employees) who enter the subway system, including passengers who transfer from buses.  Ridership does not include passengers who exit the subway or passengers who transfer from other subway lines, with the exception of out-of-system transfers; e.g., between the Lexington Av/63 St F subwaystation and the Lexington Avenue N subwayQ subwayR subway/59 St4 subway5 subway6 subwaystation, where customers use their MetroCard to make the transfer.\n",
    "\n",
    "This project has the purpose to analyze and investigate if more people ride the Subway when is raining vs when it is not raining. [1]"
   ]
  },
  {
   "cell_type": "code",
   "execution_count": 9,
   "metadata": {
    "collapsed": false,
    "scrolled": true
   },
   "outputs": [
    {
     "name": "stdout",
     "output_type": "stream",
     "text": [
      "Populating the interactive namespace from numpy and matplotlib\n"
     ]
    },
    {
     "name": "stderr",
     "output_type": "stream",
     "text": [
      "WARNING: pylab import has clobbered these variables: ['xlim', 'ylim']\n",
      "`%matplotlib` prevents importing * from pylab and numpy\n"
     ]
    },
    {
     "data": {
      "text/plain": [
       "<bound method Figure.show of <matplotlib.figure.Figure object at 0x7f9851509210>>"
      ]
     },
     "execution_count": 9,
     "metadata": {},
     "output_type": "execute_result"
    },
    {
     "data": {
      "image/png": "[encoded data removed]",
      "text/plain": [
       "<matplotlib.figure.Figure at 0x7f9851509210>"
      ]
     },
     "metadata": {},
     "output_type": "display_data"
    }
   ],
   "source": [
    "# making available graphs inline\n",
    "%pylab inline\n",
    "%matplotlib inline  \n",
    "# importing pandas for manipulation of data\n",
    "import pandas as pd\n",
    "# importing matplotlib for printing the plot\n",
    "import matplotlib.pyplot as plt\n",
    "\n",
    "# Importing scipy for working with Mann-Whitney U-Test\n",
    "import scipy\n",
    "import scipy.stats\n",
    "\n",
    "#Importing numpy and statsmodels for Linear Regression \n",
    "import numpy as np\n",
    "import statsmodels.api as sm\n",
    "import sys\n",
    "\n",
    "# calculus for Gradient Descent\n",
    "from sklearn.linear_model import SGDRegressor\n",
    "\n",
    "from ggplot import *\n",
    "\n",
    "# Loading the path of our NYC subway dataset\n",
    "filename = './turnstile_weather_v2.csv'\n",
    "\n",
    "# Let's read our dataset\n",
    "weather_data = pd.read_csv(filename)\n",
    "\n",
    "\n",
    "def entries_histogram(turnstile_weather):\n",
    "      \n",
    "    fig = plt.figure()\n",
    "    \n",
    "    left, width = 1,1\n",
    "    rect1 = [left, 1, width, 1]\n",
    "    axescolor  = '#f6f6f6'  # the axes background color\n",
    "    ax1 = fig.add_axes(rect1, axisbg=axescolor)  #left, bottom, width, height\n",
    "    ax1.set_title('Histogram of Entries by Hour') # title of the plota\n",
    "    ax1.set_xlabel('Entries by Hour')\n",
    "    ax1.set_ylabel('Frequency')\n",
    "    \n",
    "    #Blue Bars - NO Rain\n",
    "    turnstile_weather[turnstile_weather.rain==0].ENTRIESn_hourly.hist(label='No Rain') # your code here to plot a historgram for hourly entries when it is not raining (GREEN)\n",
    "    #Green Bars - Raining\n",
    "    turnstile_weather[turnstile_weather.rain==1].ENTRIESn_hourly.hist(label='Rain') # your code here to plot a historgram for hourly entries when it is raining (BLUE)\n",
    "    plt.legend()\n",
    "    return fig\n",
    "\n",
    "entries_histogram(weather_data).show"
   ]
  },
  {
   "cell_type": "markdown",
   "metadata": {},
   "source": [
    "Insight : Both Histograms does not seems to follow a Normal Distribution. "
   ]
  },
  {
   "cell_type": "markdown",
   "metadata": {},
   "source": [
    "##Section 1. Statistical Test \n",
    "\n",
    "####1.1 Which statistical test did you use to Analyze the NYC Subway data?\n",
    " \n",
    "  The statistical test used for Analyze NYC Subway data is Mann Whitney U Test. \n",
    " \n",
    "#### Did you use a one-tail or a two-tail P Value ? \n",
    "  \n",
    "   The P value used is Two Tail Test. \n",
    "  \n",
    "\n",
    "#### What is the null hypothesis ? \n",
    "\n",
    "The appropiate hypothesis for this task will be the following: \n",
    "* H0 ( Null hypothesis) : $ P( Rain  >  No Rain ) = 0.5 $ \n",
    "Probability that Riderships with Rain is larger \n",
    "\n",
    "* H1 ( Alternative hypothises) : $ P( Rain  >  No Rain )  \\ne 0.5 $ \n",
    "\n",
    "#### What is your p-critical value? \n",
    "\n",
    " The p-critical value will be 0.05 since is two-sided Test, each side will be 0.025\n",
    " \n",
    "#### 1.2 Why is this statistical test applicable to the dataset? \n",
    "  \n",
    " Based on the visualisation for the Histograms, the distributions do not seems to be Normal and based on the assumption We draw the data from unknown distributions We could apply Mann-Whitney U Test.\n",
    " "
   ]
  },
  {
   "cell_type": "code",
   "execution_count": 10,
   "metadata": {
    "collapsed": true
   },
   "outputs": [],
   "source": [
    "def mann_whitney_plus_means(turnstile_weather):\n",
    "  \n",
    "    entries_rain = turnstile_weather[turnstile_weather.rain==1].ENTRIESn_hourly\n",
    "    entries_norain = turnstile_weather[turnstile_weather.rain==0].ENTRIESn_hourly\n",
    "\n",
    "    with_rain_mean = np.mean(entries_rain)\n",
    "    without_rain_mean = np.mean(entries_norain)\n",
    "    U, p = scipy.stats.mannwhitneyu(entries_rain,entries_norain)\n",
    "    \n",
    "    return with_rain_mean, without_rain_mean, U, p*2 # leave this line for the grader\n"
   ]
  },
  {
   "cell_type": "code",
   "execution_count": 11,
   "metadata": {
    "collapsed": false
   },
   "outputs": [
    {
     "name": "stdout",
     "output_type": "stream",
     "text": [
      "(2028.1960354720918, 1845.5394386644084, 153635120.5, 5.4821391424874991e-06)\n"
     ]
    }
   ],
   "source": [
    "print mann_whitney_plus_means(weather_data)"
   ]
  },
  {
   "cell_type": "markdown",
   "metadata": {},
   "source": [
    "#### 1.3 What results did you get from this statistical test ? \n",
    " \n",
    " A Mann-Whitney  U Test indicated that Ridership when is Raining (Mean = 2028.1960354720918) was statiscally significant different than Ridership when is not Raining (Mean = 1845.5394386644084), U =153635120.5, p=5.48213e-06\n",
    " \n",
    " [2]\n",
    " \n",
    "####1.4 What is the significance and interpretation of these results?\n",
    " We reject the null hypothesis since the results are statically significant different and it falls within the critical region then We could infere that Rain might not affect ridership but has to be studied in deep as will be done now proceeding with Linear Regression Study."
   ]
  },
  {
   "cell_type": "markdown",
   "metadata": {},
   "source": [
    "##Section 2. Linear Regression.\n",
    "\n",
    "####2.1 What approach did you use to compute the coefficients theta and produce prediction for ENTRIESn_hourly in your regression model:\n",
    "    \n",
    "  The approach used for compute coefficients and prediction were : OLS and Gradient Descent\n",
    "    \n",
    "####2.2 What features (input variables) did you use in your model? Did you use any dummy variables as part of your features?\n",
    "\n",
    "    hour - Hour of the timestamp from TIMEn\n",
    "    rain - Indicator (0 or 1) if rain occurred within the calendar day at the location.    \n",
    "    weekday - Indicator (0 or 1) if the date is a weekday (Mon ­ Fri)\n",
    "    day_week - Integer (0 ­ 6 Mon ­ Sun) corresponding to the day of the week.\n",
    "\n",
    "     \n",
    " As part of the features selected a Dummy variable has been selected. \n",
    "     UNIT  - Remote unit that collects turnstile information ( Subway station )\n",
    " \n",
    "\n",
    "####2.3 Why did you select these features in your model? We are looking for specific reasons that lead you to believe that\n",
    "\n",
    " The reasons for select the features in the model were: \n",
    "    Whenever the weather is different than sunny, such as Windy (wspdi), Rainy(rain) or Foggy(fog), riders always prefer to use Subway since they don't have to drive or use bike for going to work, school or college. \n",
    "    Also, It has been selected some features such as rain and means for wind,tempeature,precipitation and pressure. And if it's a weekday on based on the day of the week the values for R squared were improved drastically.\n"
   ]
  },
  {
   "cell_type": "code",
   "execution_count": 12,
   "metadata": {
    "collapsed": false
   },
   "outputs": [],
   "source": [
    "def linear_regression(features, values):\n",
    "    \"\"\"\n",
    "     Linear regression applied with OLS \n",
    "    \"\"\"\n",
    "\n",
    "    features = sm.add_constant(features)\n",
    "    \n",
    "    model = sm.OLS(values,features)\n",
    "    results = model.fit()\n",
    "    intercept = results.params[0]\n",
    "    parameters = results.params[1:]\n",
    "    print results.summary()\n",
    "    #print parameters\n",
    "    return intercept, parameters\n",
    "\n",
    "def predictions(dataframe):\n",
    "\n",
    "    features = dataframe[['weekday','day_week','rain']]\n",
    "    #Adding dummies for UNIT, conds and station\n",
    "    dummy_units = pd.get_dummies(dataframe['UNIT'], prefix='unit')\n",
    "    dummy_hour  = pd.get_dummies(dataframe['hour'],prefix='hours')\n",
    "    \n",
    "    features = features.join(dummy_units)\n",
    "    features = features.join(dummy_hour)\n",
    "\n",
    "    # Values\n",
    "    values = dataframe['ENTRIESn_hourly']\n",
    "\n",
    "    # Perform linear regression\n",
    "    intercept, params = linear_regression(features, values)\n",
    "\n",
    "    predictions = intercept + np.dot(features, params)\n",
    "    return predictions\n"
   ]
  },
  {
   "cell_type": "code",
   "execution_count": 13,
   "metadata": {
    "collapsed": false,
    "scrolled": true,
    "slideshow": {
     "slide_type": "-"
    }
   },
   "outputs": [
    {
     "name": "stdout",
     "output_type": "stream",
     "text": [
      "                            OLS Regression Results                            \n",
      "==============================================================================\n",
      "Dep. Variable:        ENTRIESn_hourly   R-squared:                       0.542\n",
      "Model:                            OLS   Adj. R-squared:                  0.539\n",
      "Method:                 Least Squares   F-statistic:                     202.8\n",
      "Date:                Sun, 18 Oct 2015   Prob (F-statistic):               0.00\n",
      "Time:                        01:16:36   Log-Likelihood:            -3.8466e+05\n",
      "No. Observations:               42649   AIC:                         7.698e+05\n",
      "Df Residuals:                   42401   BIC:                         7.720e+05\n",
      "Df Model:                         247                                         \n",
      "Covariance Type:            nonrobust                                         \n",
      "==============================================================================\n",
      "                 coef    std err          t      P>|t|      [95.0% Conf. Int.]\n",
      "------------------------------------------------------------------------------\n",
      "const        577.1033     40.529     14.239      0.000       497.665   656.542\n",
      "weekday     1272.5127     36.516     34.848      0.000      1200.940  1344.086\n",
      "day_week      72.2187      7.894      9.149      0.000        56.747    87.691\n",
      "rain          32.1889     23.487      1.371      0.171       -13.845    78.223\n",
      "unit_R003  -1690.8771    154.331    -10.956      0.000     -1993.369 -1388.385\n",
      "unit_R004  -1321.9616    151.220     -8.742      0.000     -1618.356 -1025.567\n",
      "unit_R005  -1332.7820    152.531     -8.738      0.000     -1631.746 -1033.818\n",
      "unit_R006  -1158.3889    149.116     -7.768      0.000     -1450.660  -866.118\n",
      "unit_R007  -1517.4078    153.423     -9.890      0.000     -1818.120 -1216.696\n",
      "unit_R008  -1520.1150    153.877     -9.879      0.000     -1821.718 -1218.512\n",
      "unit_R009  -1523.9748    151.220    -10.078      0.000     -1820.369 -1227.581\n",
      "unit_R011   5549.7839    147.491     37.628      0.000      5260.698  5838.870\n",
      "unit_R012   6904.7074    146.701     47.067      0.000      6617.171  7192.244\n",
      "unit_R013    803.1483    146.701      5.475      0.000       515.612  1090.685\n",
      "unit_R016  -1019.1593    147.491     -6.910      0.000     -1308.245  -730.074\n",
      "unit_R017   2418.1429    146.701     16.484      0.000      2130.606  2705.679\n",
      "unit_R018   6002.2157    147.094     40.805      0.000      5713.908  6290.524\n",
      "unit_R019   1472.0354    146.701     10.034      0.000      1184.499  1759.572\n",
      "unit_R020   4594.2397    146.701     31.317      0.000      4306.703  4881.776\n",
      "unit_R021   2903.6993    147.491     19.687      0.000      2614.613  3192.785\n",
      "unit_R022   7738.6321    146.701     52.751      0.000      7451.096  8026.169\n",
      "unit_R023   4373.8095    146.701     29.814      0.000      4086.273  4661.346\n",
      "unit_R024   1433.7459    147.094      9.747      0.000      1145.438  1722.054\n",
      "unit_R025   3568.9278    146.701     24.328      0.000      3281.391  3856.464\n",
      "unit_R027   1188.2450    146.701      8.100      0.000       900.709  1475.781\n",
      "unit_R029   5450.2181    146.701     37.152      0.000      5162.682  5737.755\n",
      "unit_R030   1320.4117    146.701      9.001      0.000      1032.875  1607.948\n",
      "unit_R031   2572.1805    146.701     17.534      0.000      2284.644  2859.717\n",
      "unit_R032   2666.8660    147.094     18.130      0.000      2378.558  2955.174\n",
      "unit_R033   6455.1913    146.701     44.002      0.000      6167.655  6742.728\n",
      "unit_R034   -657.5779    153.421     -4.286      0.000      -958.286  -356.870\n",
      "unit_R035   1014.7948    147.491      6.880      0.000       725.709  1303.881\n",
      "unit_R036  -1051.4816    150.367     -6.993      0.000     -1346.203  -756.760\n",
      "unit_R037   -929.7047    147.892     -6.286      0.000     -1219.576  -639.834\n",
      "unit_R038  -1588.3129    151.219    -10.503      0.000     -1884.706 -1291.920\n",
      "unit_R039  -1049.9578    155.252     -6.763      0.000     -1354.254  -745.662\n",
      "unit_R040   -527.1384    147.491     -3.574      0.000      -816.224  -238.053\n",
      "unit_R041   1320.2235    146.701      8.999      0.000      1032.687  1607.760\n",
      "unit_R042  -1196.1593    149.113     -8.022      0.000     -1488.423  -903.895\n",
      "unit_R043   1107.3579    146.701      7.548      0.000       819.822  1394.894\n",
      "unit_R044   2898.7665    146.701     19.760      0.000      2611.230  3186.303\n",
      "unit_R046   6565.2181    146.701     44.752      0.000      6277.682  6852.755\n",
      "unit_R049    993.0300    146.701      6.769      0.000       705.494  1280.566\n",
      "unit_R050   2247.6711    147.492     15.239      0.000      1958.583  2536.759\n",
      "unit_R051   3354.7719    146.701     22.868      0.000      3067.235  3642.308\n",
      "unit_R052   -579.0185    152.529     -3.796      0.000      -877.978  -280.059\n",
      "unit_R053   1395.9905    147.491      9.465      0.000      1106.905  1685.076\n",
      "unit_R054   -321.2430    147.491     -2.178      0.029      -610.329   -32.157\n",
      "unit_R055   6563.5461    146.701     44.741      0.000      6276.010  6851.083\n",
      "unit_R056   -337.1508    147.491     -2.286      0.022      -626.237   -48.065\n",
      "unit_R057   3103.1590    146.701     21.153      0.000      2815.623  3390.695\n",
      "unit_R058  -1138.5852    147.094     -7.741      0.000     -1426.893  -850.277\n",
      "unit_R059   -595.9845    150.366     -3.964      0.000      -890.704  -301.265\n",
      "unit_R060   -992.6247    149.113     -6.657      0.000     -1284.889  -700.360\n",
      "unit_R061  -1198.2862    154.790     -7.741      0.000     -1501.677  -894.896\n",
      "unit_R062    957.0192    146.701      6.524      0.000       669.483  1244.556\n",
      "unit_R063   -658.0232    154.332     -4.264      0.000      -960.518  -355.529\n",
      "unit_R064   -950.3116    150.791     -6.302      0.000     -1245.865  -654.758\n",
      "unit_R065   -948.6989    152.530     -6.220      0.000     -1247.660  -649.738\n",
      "unit_R066  -1556.5288    153.423    -10.145      0.000     -1857.241 -1255.817\n",
      "unit_R067   -933.2397    154.789     -6.029      0.000     -1236.629  -629.851\n",
      "unit_R068  -1336.6328    154.790     -8.635      0.000     -1640.023 -1033.242\n",
      "unit_R069   -846.7455    152.089     -5.567      0.000     -1144.842  -548.649\n",
      "unit_R070      7.9977    146.701      0.055      0.957      -279.539   295.534\n",
      "unit_R080   1832.3257    146.701     12.490      0.000      1544.789  2119.862\n",
      "unit_R081   1783.3624    147.493     12.091      0.000      1494.273  2072.452\n",
      "unit_R082   -276.6058    147.491     -1.875      0.061      -565.691    12.480\n",
      "unit_R083   1346.7343    146.701      9.180      0.000      1059.198  1634.271\n",
      "unit_R084   8251.0085    146.701     56.244      0.000      7963.472  8538.545\n",
      "unit_R085    832.1936    147.492      5.642      0.000       543.107  1121.280\n",
      "unit_R086    820.3257    146.701      5.592      0.000       532.789  1107.862\n",
      "unit_R087   -556.4463    148.295     -3.752      0.000      -847.108  -265.784\n",
      "unit_R089  -1265.3713    147.491     -8.579      0.000     -1554.457  -976.286\n",
      "unit_R090  -1363.9677    154.786     -8.812      0.000     -1667.351 -1060.584\n",
      "unit_R091   -651.0052    153.419     -4.243      0.000      -951.709  -350.302\n",
      "unit_R092    227.6516    150.791      1.510      0.131       -67.901   523.204\n",
      "unit_R093    254.4414    151.652      1.678      0.093       -42.800   551.682\n",
      "unit_R094     -1.8380    147.491     -0.012      0.990      -290.923   287.247\n",
      "unit_R095    405.7899    148.703      2.729      0.006       114.330   697.250\n",
      "unit_R096    590.5393    147.094      4.015      0.000       302.231   878.847\n",
      "unit_R097   1211.2536    147.094      8.235      0.000       922.946  1499.561\n",
      "unit_R098     54.8848    146.701      0.374      0.708      -232.652   342.421\n",
      "unit_R099    611.9117    146.701      4.171      0.000       324.375   899.448\n",
      "unit_R100  -1204.9545    148.296     -8.125      0.000     -1495.618  -914.291\n",
      "unit_R101   1046.3042    146.701      7.132      0.000       758.768  1333.841\n",
      "unit_R102   1935.1429    146.701     13.191      0.000      1647.606  2222.679\n",
      "unit_R103   -370.2172    152.528     -2.427      0.015      -669.175   -71.259\n",
      "unit_R104   -414.4278    147.491     -2.810      0.005      -703.513  -125.342\n",
      "unit_R105   1584.8418    146.701     10.803      0.000      1297.305  1872.378\n",
      "unit_R106   -705.0681    154.796     -4.555      0.000     -1008.471  -401.665\n",
      "unit_R107  -1296.6166    155.259     -8.351      0.000     -1600.928  -992.305\n",
      "unit_R108   3474.0085    146.701     23.681      0.000      3186.472  3761.545\n",
      "unit_R111   1471.1321    146.701     10.028      0.000      1183.596  1758.669\n",
      "unit_R112    -67.7742    147.094     -0.461      0.645      -356.082   220.534\n",
      "unit_R114   -852.7453    147.095     -5.797      0.000     -1141.055  -564.436\n",
      "unit_R115   -480.4754    146.701     -3.275      0.001      -768.012  -192.939\n",
      "unit_R116   1450.2773    146.701      9.886      0.000      1162.741  1737.814\n",
      "unit_R117   -890.9097    154.330     -5.773      0.000     -1193.400  -588.419\n",
      "unit_R119    101.0378    149.527      0.676      0.499      -192.038   394.114\n",
      "unit_R120   -242.7295    151.651     -1.601      0.109      -539.969    54.510\n",
      "unit_R121   -295.5330    150.791     -1.960      0.050      -591.087     0.021\n",
      "unit_R122    824.7252    148.704      5.546      0.000       533.263  1116.188\n",
      "unit_R123   -129.0240    149.113     -0.865      0.387      -421.289   163.241\n",
      "unit_R124  -1112.8189    152.973     -7.275      0.000     -1412.650  -812.988\n",
      "unit_R126    112.1859    146.701      0.765      0.444      -175.351   399.722\n",
      "unit_R127   3052.8956    146.701     20.810      0.000      2765.359  3340.432\n",
      "unit_R137    709.4547    146.701      4.836      0.000       421.918   996.991\n",
      "unit_R139    787.4169    147.094      5.353      0.000       499.109  1075.725\n",
      "unit_R163   1588.6321    146.701     10.829      0.000      1301.096  1876.169\n",
      "unit_R172    154.6698    146.701      1.054      0.292      -132.867   442.206\n",
      "unit_R179   5035.4440    146.701     34.325      0.000      4747.908  5322.980\n",
      "unit_R181     12.7644    149.527      0.085      0.932      -280.312   305.840\n",
      "unit_R183  -1009.2507    155.259     -6.500      0.000     -1313.562  -704.940\n",
      "unit_R184   -767.2468    153.424     -5.001      0.000     -1067.962  -466.532\n",
      "unit_R186   -665.6644    148.702     -4.476      0.000      -957.123  -374.205\n",
      "unit_R188    588.5687    147.094      4.001      0.000       300.261   876.876\n",
      "unit_R189   -355.1782    150.367     -2.362      0.018      -649.900   -60.457\n",
      "unit_R194    253.0679    149.527      1.692      0.091       -40.009   546.144\n",
      "unit_R196   -414.9482    147.891     -2.806      0.005      -704.818  -125.078\n",
      "unit_R198    371.0875    147.491      2.516      0.012        82.002   660.173\n",
      "unit_R199  -1025.3918    149.527     -6.858      0.000     -1318.468  -732.316\n",
      "unit_R200   -684.1180    148.296     -4.613      0.000      -974.781  -393.455\n",
      "unit_R202    495.3291    147.493      3.358      0.001       206.241   784.418\n",
      "unit_R203     15.6029    151.220      0.103      0.918      -280.791   311.996\n",
      "unit_R204   -283.8302    146.701     -1.935      0.053      -571.367     3.706\n",
      "unit_R205   -222.1964    148.295     -1.498      0.134      -512.858    68.466\n",
      "unit_R207    265.1014    147.094      1.802      0.072       -23.206   553.409\n",
      "unit_R208    777.4402    148.295      5.243      0.000       486.779  1068.101\n",
      "unit_R209   -974.1166    154.332     -6.312      0.000     -1276.611  -671.622\n",
      "unit_R210  -1209.7301    150.366     -8.045      0.000     -1504.451  -915.009\n",
      "unit_R211    673.5999    146.701      4.592      0.000       386.063   961.136\n",
      "unit_R212    -45.6263    147.094     -0.310      0.756      -333.934   242.681\n",
      "unit_R213   -587.1471    149.945     -3.916      0.000      -881.042  -293.252\n",
      "unit_R214  -1101.6956    154.792     -7.117      0.000     -1405.092  -798.299\n",
      "unit_R215   -136.7905    147.492     -0.927      0.354      -425.877   152.296\n",
      "unit_R216   -967.4099    147.491     -6.559      0.000     -1256.495  -678.324\n",
      "unit_R217   -760.1247    154.330     -4.925      0.000     -1062.614  -457.636\n",
      "unit_R218    255.4324    147.094      1.737      0.082       -32.875   543.740\n",
      "unit_R219   -464.6916    147.492     -3.151      0.002      -753.779  -175.604\n",
      "unit_R220   -251.6743    146.701     -1.716      0.086      -539.211    35.862\n",
      "unit_R221   -358.2140    154.792     -2.314      0.021      -661.609   -54.819\n",
      "unit_R223    394.4852    147.094      2.682      0.007       106.177   682.793\n",
      "unit_R224  -1017.1451    150.792     -6.745      0.000     -1312.700  -721.591\n",
      "unit_R225  -1160.1542    148.702     -7.802      0.000     -1451.614  -868.694\n",
      "unit_R226  -1031.6878    153.424     -6.724      0.000     -1332.402  -730.973\n",
      "unit_R227   -632.4109    146.701     -4.311      0.000      -919.947  -344.874\n",
      "unit_R228   -618.2542    153.871     -4.018      0.000      -919.843  -316.665\n",
      "unit_R229  -1182.9223    152.973     -7.733      0.000     -1482.753  -883.092\n",
      "unit_R230  -1228.1382    151.221     -8.121      0.000     -1524.534  -931.743\n",
      "unit_R231   -769.6127    148.702     -5.176      0.000     -1061.072  -478.154\n",
      "unit_R232   -731.5572    152.531     -4.796      0.000     -1030.522  -432.593\n",
      "unit_R233   -657.7677    155.725     -4.224      0.000      -962.991  -352.544\n",
      "unit_R234  -1452.9444    154.334     -9.414      0.000     -1755.442 -1150.447\n",
      "unit_R235    839.5175    147.094      5.707      0.000       551.210  1127.825\n",
      "unit_R236   -205.4855    148.295     -1.386      0.166      -496.147    85.176\n",
      "unit_R237  -1100.5623    153.874     -7.152      0.000     -1402.158  -798.967\n",
      "unit_R238    377.5783    147.094      2.567      0.010        89.271   665.886\n",
      "unit_R239   -835.2496    146.701     -5.694      0.000     -1122.786  -547.713\n",
      "unit_R240    925.4610    147.891      6.258      0.000       635.591  1215.331\n",
      "unit_R242  -1193.2120    149.945     -7.958      0.000     -1487.108  -899.317\n",
      "unit_R243   -363.6720    152.089     -2.391      0.017      -661.769   -65.575\n",
      "unit_R244   -119.8281    152.090     -0.788      0.431      -417.927   178.271\n",
      "unit_R246  -1076.4241    153.874     -6.995      0.000     -1378.020  -774.828\n",
      "unit_R247  -1628.6331    156.678    -10.395      0.000     -1935.725 -1321.541\n",
      "unit_R248   1369.7466    147.094      9.312      0.000      1081.439  1658.054\n",
      "unit_R249   -383.3737    149.113     -2.571      0.010      -675.638   -91.109\n",
      "unit_R250   -767.2883    149.945     -5.117      0.000     -1061.183  -473.394\n",
      "unit_R251   -459.6819    147.892     -3.108      0.002      -749.552  -169.812\n",
      "unit_R252   -774.7785    147.491     -5.253      0.000     -1063.864  -485.693\n",
      "unit_R253   -996.8378    152.533     -6.535      0.000     -1295.805  -697.871\n",
      "unit_R254    864.7088    147.095      5.879      0.000       576.399  1153.018\n",
      "unit_R255   -964.5585    148.295     -6.504      0.000     -1255.220  -673.897\n",
      "unit_R256   -670.7222    147.492     -4.548      0.000      -959.809  -381.635\n",
      "unit_R257    151.9225    146.701      1.036      0.300      -135.614   439.459\n",
      "unit_R258   -211.1783    147.892     -1.428      0.153      -501.050    78.693\n",
      "unit_R259   -809.7938    149.113     -5.431      0.000     -1102.058  -517.530\n",
      "unit_R260   -653.0570    160.133     -4.078      0.000      -966.922  -339.193\n",
      "unit_R261   -175.3226    150.366     -1.166      0.244      -470.044   119.398\n",
      "unit_R262  -1318.1211    156.677     -8.413      0.000     -1625.211 -1011.031\n",
      "unit_R263  -1611.1312    149.945    -10.745      0.000     -1905.026 -1317.237\n",
      "unit_R264  -1261.6383    147.095     -8.577      0.000     -1549.948  -973.328\n",
      "unit_R265   -892.2339    152.977     -5.832      0.000     -1192.071  -592.397\n",
      "unit_R266   -823.0327    147.094     -5.595      0.000     -1111.340  -534.725\n",
      "unit_R269   -852.9594    147.492     -5.783      0.000     -1142.046  -563.872\n",
      "unit_R270  -1279.2938    153.876     -8.314      0.000     -1580.893  -977.694\n",
      "unit_R271  -1401.8997    153.424     -9.137      0.000     -1702.613 -1101.186\n",
      "unit_R273   -398.2638    154.327     -2.581      0.010      -700.748   -95.780\n",
      "unit_R274   -794.7406    152.528     -5.210      0.000     -1093.699  -495.783\n",
      "unit_R275   -848.5696    150.366     -5.643      0.000     -1143.290  -553.849\n",
      "unit_R276   -325.5399    146.701     -2.219      0.026      -613.076   -38.003\n",
      "unit_R277  -1345.3411    158.139     -8.507      0.000     -1655.296 -1035.386\n",
      "unit_R278  -1388.7122    152.975     -9.078      0.000     -1688.546 -1088.879\n",
      "unit_R279   -978.3812    149.527     -6.543      0.000     -1271.457  -685.305\n",
      "unit_R280  -1122.8693    157.158     -7.145      0.000     -1430.903  -814.836\n",
      "unit_R281   -461.8684    149.113     -3.097      0.002      -754.134  -169.603\n",
      "unit_R282   -157.4940    147.491     -1.068      0.286      -446.580   131.592\n",
      "unit_R284   -966.3818    147.491     -6.552      0.000     -1255.467  -677.296\n",
      "unit_R285  -1183.5924    154.788     -7.647      0.000     -1486.980  -880.205\n",
      "unit_R287  -1228.1488    155.261     -7.910      0.000     -1532.463  -923.835\n",
      "unit_R291     67.6913    146.701      0.461      0.644      -219.845   355.228\n",
      "unit_R294   -812.3821    150.366     -5.403      0.000     -1107.103  -517.661\n",
      "unit_R295  -1158.6755    170.224     -6.807      0.000     -1492.317  -825.034\n",
      "unit_R300    476.7558    146.701      3.250      0.001       189.219   764.292\n",
      "unit_R303   -516.2099    149.113     -3.462      0.001      -808.474  -223.946\n",
      "unit_R304   -657.5048    147.492     -4.458      0.000      -946.592  -368.418\n",
      "unit_R307  -1444.3622    155.257     -9.303      0.000     -1748.669 -1140.055\n",
      "unit_R308   -971.9572    152.089     -6.391      0.000     -1270.055  -673.859\n",
      "unit_R309   -942.7829    151.651     -6.217      0.000     -1240.023  -645.543\n",
      "unit_R310   -485.8660    153.423     -3.167      0.002      -786.579  -185.153\n",
      "unit_R311  -1373.6494    151.220     -9.084      0.000     -1670.043 -1077.256\n",
      "unit_R312  -1417.4378    147.891     -9.584      0.000     -1707.308 -1127.568\n",
      "unit_R313  -1743.4664    155.727    -11.196      0.000     -2048.695 -1438.238\n",
      "unit_R318  -1209.5951    148.295     -8.157      0.000     -1500.256  -918.934\n",
      "unit_R319   -410.4471    149.527     -2.745      0.006      -703.523  -117.371\n",
      "unit_R321   -660.6474    146.701     -4.503      0.000      -948.184  -373.111\n",
      "unit_R322     22.7273    149.528      0.152      0.879      -270.350   315.804\n",
      "unit_R323   -511.2003    152.530     -3.351      0.001      -810.162  -212.238\n",
      "unit_R325  -1427.7648    151.220     -9.442      0.000     -1724.159 -1131.371\n",
      "unit_R330   -782.2358    150.366     -5.202      0.000     -1076.956  -487.515\n",
      "unit_R335  -1413.7937    156.200     -9.051      0.000     -1719.948 -1107.639\n",
      "unit_R336  -1773.1346    156.196    -11.352      0.000     -2079.281 -1466.988\n",
      "unit_R337  -1715.8382    154.328    -11.118      0.000     -2018.324 -1413.352\n",
      "unit_R338  -1843.0963    151.652    -12.153      0.000     -2140.338 -1545.855\n",
      "unit_R341  -1252.2443    147.894     -8.467      0.000     -1542.120  -962.369\n",
      "unit_R344  -1314.9293    156.191     -8.419      0.000     -1621.067 -1008.792\n",
      "unit_R345  -1311.7223    151.220     -8.674      0.000     -1608.117 -1015.327\n",
      "unit_R346   -520.4343    151.651     -3.432      0.001      -817.674  -223.195\n",
      "unit_R348  -1653.3580    151.653    -10.902      0.000     -1950.601 -1356.114\n",
      "unit_R354  -1612.5681    154.789    -10.418      0.000     -1915.957 -1309.179\n",
      "unit_R356   -684.4736    150.792     -4.539      0.000      -980.029  -388.919\n",
      "unit_R358  -1577.9613    154.790    -10.194      0.000     -1881.352 -1274.571\n",
      "unit_R370  -1308.0894    150.792     -8.675      0.000     -1603.644 -1012.535\n",
      "unit_R371  -1091.2176    152.529     -7.154      0.000     -1390.177  -792.258\n",
      "unit_R372  -1106.4044    153.876     -7.190      0.000     -1408.004  -804.805\n",
      "unit_R373  -1161.5934    154.328     -7.527      0.000     -1464.080  -859.107\n",
      "unit_R382   -878.0500    150.366     -5.839      0.000     -1172.771  -583.329\n",
      "unit_R424  -1447.8810    155.723     -9.298      0.000     -1753.102 -1142.660\n",
      "unit_R429   -762.4042    147.892     -5.155      0.000     -1052.275  -472.534\n",
      "unit_R453    -17.5275    157.158     -0.112      0.911      -325.560   290.505\n",
      "unit_R454  -1697.3600    154.789    -10.966      0.000     -2000.749 -1393.971\n",
      "unit_R455  -1744.6433    154.331    -11.305      0.000     -2047.136 -1442.150\n",
      "unit_R456  -1557.9872    150.368    -10.361      0.000     -1852.711 -1263.263\n",
      "unit_R459  -1779.9842    213.056     -8.355      0.000     -2197.579 -1362.389\n",
      "unit_R464  -1910.8285    153.876    -12.418      0.000     -2212.428 -1609.229\n",
      "hours_0     -308.1140     22.438    -13.732      0.000      -352.092  -264.136\n",
      "hours_4    -1399.0741     22.431    -62.372      0.000     -1443.040 -1355.108\n",
      "hours_8    -1110.8620     24.497    -45.346      0.000     -1158.877 -1062.847\n",
      "hours_12    1294.7158     22.490     57.570      0.000      1250.636  1338.796\n",
      "hours_16     587.2543     22.531     26.064      0.000       543.092   631.416\n",
      "hours_20    1513.1833     22.472     67.336      0.000      1469.138  1557.229\n",
      "==============================================================================\n",
      "Omnibus:                    30162.129   Durbin-Watson:                   1.510\n",
      "Prob(Omnibus):                  0.000   Jarque-Bera (JB):          1093054.121\n",
      "Skew:                           2.969   Prob(JB):                         0.00\n",
      "Kurtosis:                      27.080   Cond. No.                     2.27e+15\n",
      "==============================================================================\n",
      "\n",
      "Warnings:\n",
      "[1] Standard Errors assume that the covariance matrix of the errors is correctly specified.\n",
      "[2] The smallest eigenvalue is 1.14e-25. This might indicate that there are\n",
      "strong multicollinearity problems or that the design matrix is singular.\n"
     ]
    }
   ],
   "source": [
    "pred =  predictions(weather_data)"
   ]
  },
  {
   "cell_type": "markdown",
   "metadata": {},
   "source": [
    "\n",
    "####2.4 What are the parameters (also known as \"coefficients\" or \"weights\") of the non-dummy features in your linear regression model?\n",
    " The parameters are the that minimize the least squares criterion for the model. \n",
    " \n",
    "  Please observe the table below in which the coeffiecients of the non-dummy features can be appreciated.\n"
   ]
  },
  {
   "cell_type": "code",
   "execution_count": 14,
   "metadata": {
    "collapsed": true
   },
   "outputs": [],
   "source": [
    "def compute_r_squared(data, predictions):\n",
    "    '''data - refers to data points collected\n",
    "       predictions - based on features selected we calculate \n",
    "    '''\n",
    "    mean_p = np.mean(data) # mean of observations\n",
    "    sse = np.sum((data-predictions)**2) #sum squared error\n",
    "    sst = np.sum((data-mean_p)**2) # total sum of squares\n",
    "\n",
    "    r_squared = 1 - ( sse / sst )\n",
    "    #print data.shape\n",
    "    #print predictions.shape\n",
    "    \n",
    "    return r_squared"
   ]
  },
  {
   "cell_type": "code",
   "execution_count": 15,
   "metadata": {
    "collapsed": false
   },
   "outputs": [
    {
     "name": "stdout",
     "output_type": "stream",
     "text": [
      "R-squared =  0.541631441682\n"
     ]
    }
   ],
   "source": [
    "dataPoints = weather_data['ENTRIESn_hourly']\n",
    "r_squared = compute_r_squared(dataPoints,pred)\n",
    "print \"R-squared = \",r_squared"
   ]
  },
  {
   "cell_type": "markdown",
   "metadata": {
    "collapsed": true
   },
   "source": [
    "####2.5 What is your model’s R2 (coefficients of determination) value?\n",
    "$ R^2$  = 0.54\n",
    "\n",
    "####2.6 What does this R2 value mean for the goodness of fit for your regression model? Do you think this linear model to predict ridership is appropriate for this dataset, given this R2  value?\n",
    "\n",
    "This value seem like a good fit for the model since is superior to 0.40 and closer to 1.\n"
   ]
  },
  {
   "cell_type": "code",
   "execution_count": 16,
   "metadata": {
    "collapsed": true
   },
   "outputs": [],
   "source": [
    "def plot_residuals(turnstile_weather, predictions):\n",
    "    fig = plt.figure()\n",
    "    left, width = 1, 1\n",
    "    rect1 = [left, 1, width, 1]\n",
    "    axescolor  = '#f6f6f6'  # the axes background color\n",
    "    ax1 = fig.add_axes(rect1, axisbg=axescolor)  #left, bottom, width, height\n",
    "    (turnstile_weather['ENTRIESn_hourly'] - predictions).hist(bins=80)\n",
    "    ax1.set_title('Residuals of Entries by Hour vs. Predictions') # title of the plota\n",
    "    ax1.set_xlabel('Difference Entries by Hour & Predictions')\n",
    "    ax1.set_ylabel('Frequency')\n",
    "    return fig"
   ]
  },
  {
   "cell_type": "code",
   "execution_count": 17,
   "metadata": {
    "collapsed": false
   },
   "outputs": [
    {
     "name": "stdout",
     "output_type": "stream",
     "text": [
      "Figure(480x320)\n"
     ]
    },
    {
     "data": {
      "image/png": "[encoded data removed]",
      "text/plain": [
       "<matplotlib.figure.Figure at 0x7f98505cb990>"
      ]
     },
     "metadata": {},
     "output_type": "display_data"
    }
   ],
   "source": [
    "print plot_residuals(weather_data,pred)"
   ]
  },
  {
   "cell_type": "markdown",
   "metadata": {},
   "source": [
    "x.x Residuals plot\n",
    "\n",
    "This plot looks like a normal distribution with mean = 0 and by having a peek and long tails that might indicated us to do further transformations to the dataset and check if the regression behaved slighlty better and of course have a better prediction."
   ]
  },
  {
   "cell_type": "markdown",
   "metadata": {},
   "source": [
    "### Additional ( Linear regression with Gradient Descent ) \n",
    "\n",
    "For exploration of another ways to make the predictions, Linear regression Gradient descent has been applied. "
   ]
  },
  {
   "cell_type": "code",
   "execution_count": 18,
   "metadata": {
    "collapsed": true
   },
   "outputs": [],
   "source": [
    "def normalize_features(features):\n",
    "    '''\n",
    "    Returns the means and standard deviations of the given features, along with a normalized feature\n",
    "    matrix.\n",
    "    '''\n",
    "    means = np.mean(features, axis=0)\n",
    "    std_devs = np.std(features, axis=0)\n",
    "    normalized_features = (features - means) / std_devs\n",
    "    return means, std_devs, normalized_features\n",
    "\n",
    "def recover_params(means, std_devs, norm_intercept, norm_params):\n",
    "    '''\n",
    "    Recovers the weights for a linear model given parameters that were fitted using\n",
    "    normalized features. Takes the means and standard deviations of the original\n",
    "    features, along with the intercept and parameters computed using the normalized\n",
    "    features, and returns the intercept and parameters that correspond to the original\n",
    "    features.\n",
    "    '''\n",
    "    intercept = norm_intercept - np.sum(means * norm_params / std_devs)\n",
    "    params = norm_params / std_devs\n",
    "    return intercept, params\n",
    "\n",
    "def linear_regression(features, values):\n",
    "    \"\"\"\n",
    "    Perform linear regression given a data set with an arbitrary number of features.\n",
    "    \"\"\"\n",
    "    clf = SGDRegressor(n_iter=1500)\n",
    "    clf.fit(features, values)\n",
    "    intercept = clf.intercept_\n",
    "    params = clf.coef_\n",
    " \n",
    "    return intercept, params\n",
    "\n",
    "def predictions(dataframe):\n",
    "    '''\n",
    "    Let's predict the ridership of cthe NYC subway using linear regression with gradient descent.\n",
    "    '''\n",
    "    \n",
    "    features = dataframe[['weekday','day_week','rain']]\n",
    "    #Adding dummies for UNIT, conds and station\n",
    "    dummy_units = pd.get_dummies(dataframe['UNIT'], prefix='unit')\n",
    "    dummy_hour  = pd.get_dummies(dataframe['hour'],prefix='hours')\n",
    "    \n",
    "    features = features.join(dummy_units)\n",
    "    features = features.join(dummy_hour)\n",
    "    \n",
    "    # Values\n",
    "    values = dataframe['ENTRIESn_hourly']\n",
    "\n",
    "    # Get numpy arrays\n",
    "    features_array = features.values\n",
    "    values_array = values.values\n",
    "\n",
    "    means, std_devs, normalized_features_array = normalize_features(features_array)\n",
    "\n",
    "    # Perform gradient descent\n",
    "    norm_intercept, norm_params = linear_regression(normalized_features_array, values_array)\n",
    "\n",
    "    intercept, params = recover_params(means, std_devs, norm_intercept, norm_params)\n",
    "\n",
    "    predictions = intercept + np.dot(features_array, params)\n",
    "\n",
    "    return predictions\n"
   ]
  },
  {
   "cell_type": "code",
   "execution_count": 19,
   "metadata": {
    "collapsed": false
   },
   "outputs": [
    {
     "name": "stdout",
     "output_type": "stream",
     "text": [
      "R-squared =  0.536745879871\n"
     ]
    }
   ],
   "source": [
    "#get predictions from gradient descent \n",
    "pred_gd = predictions(weather_data)\n",
    "\n",
    "#calculate r-squared for Gradient descent predictions \n",
    "r_squared = compute_r_squared(dataPoints,pred_gd)\n",
    "print \"R-squared = \",r_squared\n"
   ]
  },
  {
   "cell_type": "markdown",
   "metadata": {},
   "source": [
    "##Section 3. Visualization\n",
    "\n",
    "\n"
   ]
  },
  {
   "cell_type": "code",
   "execution_count": 20,
   "metadata": {
    "collapsed": false
   },
   "outputs": [],
   "source": [
    "def entries_histogram_rain(turnstile_weather):\n",
    "    \n",
    "    r_plot = ggplot(aes(x='ENTRIESn_hourly'), turnstile_weather) + geom_histogram(binwidth=1000, colour = \"black\",\\\n",
    "                                                                                  fill=\"blue\")\n",
    "    return r_plot\n",
    "\n"
   ]
  },
  {
   "cell_type": "markdown",
   "metadata": {},
   "source": [
    "### 3.1 Histogram of Entries by Hour"
   ]
  },
  {
   "cell_type": "code",
   "execution_count": 22,
   "metadata": {
    "collapsed": false
   },
   "outputs": [
    {
     "data": {
      "image/png": "[encoded data removed]",
      "text/plain": [
       "<matplotlib.figure.Figure at 0x7f984fbe6790>"
      ]
     },
     "metadata": {},
     "output_type": "display_data"
    },
    {
     "name": "stdout",
     "output_type": "stream",
     "text": [
      "<ggplot: (8768259947013)>\n"
     ]
    }
   ],
   "source": [
    "weather_rain = weather_data[weather_data.rain == 1]\n",
    "print entries_histogram_rain(weather_rain)"
   ]
  },
  {
   "cell_type": "code",
   "execution_count": 23,
   "metadata": {
    "collapsed": false
   },
   "outputs": [],
   "source": [
    "def entries_histogram_Norain(turnstile_weather):\n",
    "      \n",
    "    r_plot = ggplot(aes(x='ENTRIESn_hourly'), turnstile_weather) + \\\n",
    "    geom_histogram(binwidth=1000,colour = \"black\", fill=\"green\" )\n",
    "    return r_plot\n",
    "\n",
    "weather_Norain = weather_data[weather_data.rain == 0]\n"
   ]
  },
  {
   "cell_type": "markdown",
   "metadata": {},
   "source": [
    "### 3.2 Histogram of Entries by Hour"
   ]
  },
  {
   "cell_type": "code",
   "execution_count": 24,
   "metadata": {
    "collapsed": false
   },
   "outputs": [
    {
     "data": {
      "image/png": "[encoded data removed]",
      "text/plain": [
       "<matplotlib.figure.Figure at 0x7f984fa6dd50>"
      ]
     },
     "metadata": {},
     "output_type": "display_data"
    },
    {
     "name": "stdout",
     "output_type": "stream",
     "text": [
      "<ggplot: (8768259356393)>\n"
     ]
    }
   ],
   "source": [
    "print entries_histogram_Norain(weather_Norain)"
   ]
  },
  {
   "cell_type": "markdown",
   "metadata": {},
   "source": [
    "#### Insight: This histogram represents the number of Entries by Hour whenever is Raining (Hist 3.1) vs when is not Raining (Hist 3.2), we might infere from the results that Ridership when is not Raining is superior from when is Raining."
   ]
  },
  {
   "cell_type": "code",
   "execution_count": 95,
   "metadata": {
    "collapsed": false
   },
   "outputs": [],
   "source": [
    "def plot_weather_data(turnstile_weather):\n",
    "\n",
    "    \n",
    "    label_list = ['Sunday','Monday', 'Tuesday', 'Wednesday', 'Thursday', 'Friday', 'Saturday']\n",
    "    \n",
    "    pd.options.mode.chained_assignment = None\n",
    "\n",
    "    g = turnstile_weather.groupby(['hour','day_week']).sum().reset_index()\n",
    "    pplot = ggplot(g, aes('day_week', 'ENTRIESn_hourly',color='hour')) + geom_line() \\\n",
    "    + labs(title=\"Entries by Hour and Day of Week\", x = \"Day of the Week\", y = \"Entries\") \\\n",
    "    + scale_x_discrete(labels=label_list) \n",
    "    \n",
    "\n",
    "    return pplot"
   ]
  },
  {
   "cell_type": "code",
   "execution_count": 96,
   "metadata": {
    "collapsed": false
   },
   "outputs": [
    {
     "data": {
      "image/png": "[encoded data removed]",
      "text/plain": [
       "<matplotlib.figure.Figure at 0x7f984fce63d0>"
      ]
     },
     "metadata": {},
     "output_type": "display_data"
    },
    {
     "name": "stdout",
     "output_type": "stream",
     "text": [
      "<ggplot: (8768259861945)>\n"
     ]
    }
   ],
   "source": [
    "print plot_weather_data(weather_data)"
   ]
  },
  {
   "cell_type": "markdown",
   "metadata": {},
   "source": [
    "### Visualisation of Ridership by Hour and Day of Week.\n",
    "\n",
    "#### Insight: based on the visualisation it can be infered tha: \n",
    "    Ridership is higher at night on Mondays (8pm)\n",
    "    Within the progress of the week Riderships are falling\n",
    "    Over 4am ridership is almost constant and lower \n",
    "    Riderships at mornings (8am) are higher at the beggining of the week\n",
    "    "
   ]
  },
  {
   "cell_type": "markdown",
   "metadata": {
    "collapsed": false
   },
   "source": [
    "## Section 4. Conclusion\n",
    "\n",
    "####4.1 From your analysis and interpretation of the data, do more people ride the NYC subway when it is raining or when it is not raining?  \n",
    "\n",
    " Based on the analysis and interpretation of the data, more people ride the NYC when is not raining. \n",
    "\n",
    "####4.2 What analysis lead you to this conclusion? You should use results from both your statistical tests and your linear regression to support your analysis.\n",
    "\n",
    "\n",
    " "
   ]
  },
  {
   "cell_type": "markdown",
   "metadata": {
    "collapsed": true
   },
   "source": [
    "## Section 5. Reflection\n",
    "\n",
    "####5.1 Please discuss potential shortcomings of the methods of your analysis, including:\n",
    "    Dataset: the dataset could be improved by wrangling the data for values such as day_week and filling or excluding empty values for rows were weigths were bigger. \n",
    "    Analysis: this project has been analysed carefully, nevertheless it could be improved by checking and adjusting multiple combinations of features.\n",
    "####5.2 (Optional) Do you have any other insight about the dataset that you would like to share with us?\n",
    "\n",
    "The dataset shared was understandable,  but I believe it could be better if from the beginning students will manipulated the improved dataset."
   ]
  },
  {
   "cell_type": "markdown",
   "metadata": {},
   "source": [
    "### References. \n",
    "\n",
    "[1]  Metropolitan Transportation Authority's (MTA) (http://web.mta.info/nyct/facts/ridership/)\n",
    "\n",
    "[2]  Reporting Mann Whitney U Test APA (http://www.slideshare.net/plummer48/reporting-mann-whitney-u-test-in-apa)\n"
   ]
  }
 ],
 "metadata": {
  "kernelspec": {
   "display_name": "Python 2",
   "language": "python",
   "name": "python2"
  },
  "language_info": {
   "codemirror_mode": {
    "name": "ipython",
    "version": 2
   },
   "file_extension": ".py",
   "mimetype": "text/x-python",
   "name": "python",
   "nbconvert_exporter": "python",
   "pygments_lexer": "ipython2",
   "version": "2.7.10"
  }
 },
 "nbformat": 4,
 "nbformat_minor": 0
}
