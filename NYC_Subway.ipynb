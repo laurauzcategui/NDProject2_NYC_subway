{
 "cells": [
  {
   "cell_type": "markdown",
   "metadata": {},
   "source": [
    "# Project 2 - Analyzing the NYC Subway Dataset\n",
    "'''\n",
    "Created by Laura Uzcategui \n",
    "Date : 30 Sept 2015 \n",
    "'''"
   ]
  },
  {
   "cell_type": "markdown",
   "metadata": {},
   "source": [
    "# Subway Ridership \n",
    "\n",
    "Subway ridership consists of all passengers (other than NYC Transit employees) who enter the subway system, including passengers who transfer from buses.  Ridership does not include passengers who exit the subway or passengers who transfer from other subway lines, with the exception of out-of-system transfers; e.g., between the Lexington Av/63 St F subwaystation and the Lexington Avenue N subwayQ subwayR subway/59 St4 subway5 subway6 subwaystation, where customers use their MetroCard to make the transfer.\n",
    "\n",
    "This project has the purpose to analyze and investigate if more people ride the Subway when is raining vs when it is not raining. [1]"
   ]
  },
  {
   "cell_type": "code",
   "execution_count": 22,
   "metadata": {
    "collapsed": false
   },
   "outputs": [
    {
     "name": "stdout",
     "output_type": "stream",
     "text": [
      "Populating the interactive namespace from numpy and matplotlib\n"
     ]
    },
    {
     "data": {
      "text/plain": [
       "<function matplotlib.pyplot.show>"
      ]
     },
     "execution_count": 22,
     "metadata": {},
     "output_type": "execute_result"
    },
    {
     "data": {
      "image/png": "[encoded data removed]",
      "text/plain": [
       "<matplotlib.figure.Figure at 0x7f279ee85610>"
      ]
     },
     "metadata": {},
     "output_type": "display_data"
    }
   ],
   "source": [
    "# making available graphs inline\n",
    "%pylab inline\n",
    "# importing pandas for manipulation of data\n",
    "import pandas as pd\n",
    "# importing matplotlib for printing the plot\n",
    "import matplotlib.pyplot as plt\n",
    "\n",
    "# Importing scipy for working with Mann-Whitney U-Test\n",
    "import scipy\n",
    "import scipy.stats\n",
    "\n",
    "#Importing numpy and statsmodels for Linear Regression \n",
    "import numpy as np\n",
    "import statsmodels.api as sm\n",
    "import sys\n",
    "\n",
    "# Loading the path of our NYC subway dataset\n",
    "filename = './turnstile_weather_v2.csv'\n",
    "\n",
    "# Let's read our dataset\n",
    "weather_data = pd.read_csv(filename)\n",
    "\n",
    "\n",
    "def entries_histogram(turnstile_weather):\n",
    "      \n",
    "    plt.figure()\n",
    "    #Blue Bars - NO Rain\n",
    "    turnstile_weather[turnstile_weather.rain==0].ENTRIESn_hourly.hist() # your code here to plot a historgram for hourly entries when it is not raining (GREEN)\n",
    "    #Green Bars - Raining\n",
    "    turnstile_weather[turnstile_weather.rain==1].ENTRIESn_hourly.hist() # your code here to plot a historgram for hourly entries when it is raining (BLUE)\n",
    "    plt.title = \"Entries when Raining vs When is not raining\"\n",
    "    return plt\n",
    "\n",
    "entries_histogram(weather_data).show"
   ]
  },
  {
   "cell_type": "markdown",
   "metadata": {},
   "source": [
    "Both Histograms does not seems to follow a Normal Distribution. "
   ]
  },
  {
   "cell_type": "markdown",
   "metadata": {},
   "source": [
    "##Section 1. Statistical Test \n",
    "\n",
    "####1.1 Which statistical test did you use to Analyze the NYC Subway data?\n",
    " \n",
    "  The statistical test used for Analyze NYC Subway data is Mann Whitney U Test. \n",
    " \n",
    "#### Did you use a one-tail or a two-tail P Value ? \n",
    "  \n",
    "   The P value used is Two Tail Test. \n",
    "  \n",
    "\n",
    "#### What is the null hypothesis ? \n",
    "\n",
    "The appropiate hypothesis for this task will be the following: \n",
    "* H0 ( Null hypothesis) : $ P( Rain  >  No Rain ) \\leqq 0.5 $ \n",
    "Probability that Riderships with Rain is larger \n",
    "\n",
    "* H1 ( Alternative hypothises) : $ P( Rain  >  No Rain )  \\gt 0.5 $ \n",
    "\n",
    "#### What is your p-critical value? \n",
    "\n",
    " The p-critical value will be 0.025 since is two-sided Test.\n",
    " \n",
    "#### 1.2 Why is this statistical test applicable to the dataset? \n",
    "  \n",
    " Based on the visualisation for the Histograms, the distributions do not seems to be Normal and based on the assumption We draw the data from unknown distributions We could apply Mann-Whitney U Test.\n",
    " "
   ]
  },
  {
   "cell_type": "code",
   "execution_count": 23,
   "metadata": {
    "collapsed": true
   },
   "outputs": [],
   "source": [
    "def mann_whitney_plus_means(turnstile_weather):\n",
    "  \n",
    "    entries_rain = turnstile_weather[turnstile_weather.rain==1].ENTRIESn_hourly\n",
    "    entries_norain = turnstile_weather[turnstile_weather.rain==0].ENTRIESn_hourly\n",
    "\n",
    "    with_rain_mean = np.mean(entries_rain)\n",
    "    without_rain_mean = np.mean(entries_norain)\n",
    "    U, p = scipy.stats.mannwhitneyu(entries_rain,entries_norain)\n",
    "    \n",
    "    return with_rain_mean, without_rain_mean, U, p*2 # leave this line for the grader\n"
   ]
  },
  {
   "cell_type": "code",
   "execution_count": 24,
   "metadata": {
    "collapsed": false
   },
   "outputs": [
    {
     "name": "stdout",
     "output_type": "stream",
     "text": [
      "(2028.1960354720918, 1845.5394386644084, 153635120.5, 5.4821391424874991e-06)\n"
     ]
    }
   ],
   "source": [
    "print mann_whitney_plus_means(weather_data)"
   ]
  },
  {
   "cell_type": "markdown",
   "metadata": {},
   "source": [
    "#### 1.3 What results did you get from this statistical test ? \n",
    " \n",
    " A Mann-Whitney  U Test indicated that Ridership when is Raining (Mean = 2028.1960354720918) was statiscally significant different than Ridership when is not Raining (Mean = 1845.5394386644084), U =153635120.5, p=5.48213e-06 \n",
    " \n",
    "####1.4 What is the significance and interpretation of these results?\n",
    " We reject the null hypothesis since the results are statically significant different. "
   ]
  },
  {
   "cell_type": "markdown",
   "metadata": {},
   "source": [
    "##Section 2. Linear Regression.\n",
    "\n",
    "####2.1 What approach did you use to compute the coefficients theta and produce prediction for ENTRIESn_hourly in your regression model:\n",
    "    OLS using Statsmodels or Scikit Learn\n",
    "    Gradient descent using Scikit Learn\n",
    "    Or something different?\n",
    "    \n",
    "####2.2 What features (input variables) did you use in your model? Did you use any dummy variables as part of your features?\n",
    "####2.3 Why did you select these features in your model? We are looking for specific reasons that lead you to believe that\n",
    "the selected features will contribute to the predictive power of your model.\n",
    "Your reasons might be based on intuition. For example, response for fog might be: “I decided to use fog because I thought that when it is very foggy outside people might decide to use the subway more often.”\n",
    "Your reasons might also be based on data exploration and experimentation, for example: “I used feature X because as soon as I included it in my model, it drastically improved my R2 value.”  \n",
    "####2.4 What are the parameters (also known as \"coefficients\" or \"weights\") of the non-dummy features in your linear regression model?\n",
    "####2.5 What is your model’s R2 (coefficients of determination) value?\n",
    "####2.6 What does this R2 value mean for the goodness of fit for your regression model? Do you think this linear model to predict ridership is appropriate for this dataset, given this R2  value?"
   ]
  },
  {
   "cell_type": "code",
   "execution_count": 32,
   "metadata": {
    "collapsed": true
   },
   "outputs": [],
   "source": [
    "\n",
    "def linear_regression(features, values):\n",
    "    \"\"\"\n",
    "    Perform linear regression given a data set with an arbitrary number of features.\n",
    "\n",
    "    This can be the same code as in the lesson #3 exercise.\n",
    "    \"\"\"\n",
    "\n",
    "    \n",
    "\n",
    "    features = sm.add_constant(features)\n",
    "    \n",
    "    model = sm.OLS(values,features)\n",
    "    results = model.fit()\n",
    "    intercept = results.params[0]\n",
    "    parameters = results.params[1:]\n",
    "    \n",
    "    return intercept, parameters\n",
    "\n",
    "def predictions(dataframe):\n",
    "    features = dataframe[['meantempi','hour','meanwspdi','rain','precipi','fog','meanpressurei']]\n",
    "    dummy_units = pandas.get_dummies(dataframe['UNIT'], prefix='unit')\n",
    "    features = features.join(dummy_units)\n",
    "\n",
    "    # Values\n",
    "    values = dataframe['ENTRIESn_hourly']\n",
    "\n",
    "    # Perform linear regression\n",
    "    intercept, params = linear_regression(features, values)\n",
    "\n",
    "    predictions = intercept + np.dot(features, params)\n",
    "    return predictions\n"
   ]
  },
  {
   "cell_type": "code",
   "execution_count": 45,
   "metadata": {
    "collapsed": false
   },
   "outputs": [
    {
     "name": "stdout",
     "output_type": "stream",
     "text": [
      "(42649,)\n",
      "(42649,)\n"
     ]
    }
   ],
   "source": [
    "pred =  predictions(weather_data)\n",
    "print pred.shape\n",
    "print weather_data['ENTRIESn_hourly'].shape"
   ]
  },
  {
   "cell_type": "code",
   "execution_count": 46,
   "metadata": {
    "collapsed": true
   },
   "outputs": [],
   "source": [
    "def compute_r_squared(data, predictions):\n",
    "    '''\n",
    "    In exercise 5, we calculated the R^2 value for you. But why don't you try and\n",
    "    and calculate the R^2 value yourself.\n",
    "    \n",
    "    Given a list of original data points, and also a list of predicted data points,\n",
    "    write a function that will compute and return the coefficient of determination (R^2)\n",
    "    for this data.  numpy.mean() and numpy.sum() might both be useful here, but\n",
    "    not necessary.\n",
    "\n",
    "    Documentation about numpy.mean() and numpy.sum() below:\n",
    "    http://docs.scipy.org/doc/numpy/reference/generated/numpy.mean.html\n",
    "    http://docs.scipy.org/doc/numpy/reference/generated/numpy.sum.html\n",
    "    '''\n",
    "    \n",
    "    # your code here\n",
    "    mean_p = np.mean(data) # mean of observations\n",
    "\n",
    "    sse = np.sum((data-predictions)**2) #sum squared error\n",
    "    sst = np.sum((data-mean_p)**2) # total sum of squares\n",
    "\n",
    "    r_squared = 1 - ( sse / sst )\n",
    "    print data.shape\n",
    "    print predictions.shape\n",
    "    \n",
    "    return r_squared"
   ]
  },
  {
   "cell_type": "code",
   "execution_count": 47,
   "metadata": {
    "collapsed": false
   },
   "outputs": [
    {
     "name": "stdout",
     "output_type": "stream",
     "text": [
      "(42649,)\n",
      "(42649,)\n",
      "0.462273272322\n"
     ]
    }
   ],
   "source": [
    "dataPoints = weather_data['ENTRIESn_hourly']\n",
    "print compute_r_squared(dataPoints,pred)"
   ]
  },
  {
   "cell_type": "code",
   "execution_count": null,
   "metadata": {
    "collapsed": true
   },
   "outputs": [],
   "source": []
  },
  {
   "cell_type": "code",
   "execution_count": null,
   "metadata": {
    "collapsed": true
   },
   "outputs": [],
   "source": []
  }
 ],
 "metadata": {
  "kernelspec": {
   "display_name": "Python 2",
   "language": "python",
   "name": "python2"
  },
  "language_info": {
   "codemirror_mode": {
    "name": "ipython",
    "version": 2
   },
   "file_extension": ".py",
   "mimetype": "text/x-python",
   "name": "python",
   "nbconvert_exporter": "python",
   "pygments_lexer": "ipython2",
   "version": "2.7.10"
  }
 },
 "nbformat": 4,
 "nbformat_minor": 0
}
