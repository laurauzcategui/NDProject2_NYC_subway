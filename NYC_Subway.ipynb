{
 "cells": [
  {
   "cell_type": "markdown",
   "metadata": {},
   "source": [
    "# Project 2 - Analyzing the NYC Subway Dataset\n",
    "'''\n",
    "Created by Laura Uzcategui \n",
    "Date : 30 Sept 2015 \n",
    "'''"
   ]
  },
  {
   "cell_type": "markdown",
   "metadata": {},
   "source": [
    "# Subway Ridership \n",
    "\n",
    "Subway ridership consists of all passengers (other than NYC Transit employees) who enter the subway system, including passengers who transfer from buses.  Ridership does not include passengers who exit the subway or passengers who transfer from other subway lines, with the exception of out-of-system transfers; e.g., between the Lexington Av/63 St F subwaystation and the Lexington Avenue N subwayQ subwayR subway/59 St4 subway5 subway6 subwaystation, where customers use their MetroCard to make the transfer.\n",
    "\n",
    "This project has the purpose to analyze and investigate if more people ride the Subway when is raining vs when it is not raining. [1]"
   ]
  },
  {
   "cell_type": "code",
   "execution_count": 1,
   "metadata": {
    "collapsed": false
   },
   "outputs": [
    {
     "name": "stdout",
     "output_type": "stream",
     "text": [
      "Populating the interactive namespace from numpy and matplotlib\n"
     ]
    },
    {
     "data": {
      "text/plain": [
       "<function matplotlib.pyplot.show>"
      ]
     },
     "execution_count": 1,
     "metadata": {},
     "output_type": "execute_result"
    },
    {
     "data": {
      "image/png": "[encoded data removed]",
      "text/plain": [
       "<matplotlib.figure.Figure at 0x18643080>"
      ]
     },
     "metadata": {},
     "output_type": "display_data"
    }
   ],
   "source": [
    "# making available graphs inline\n",
    "%pylab inline\n",
    "# importing pandas for manipulation of data\n",
    "import pandas as pd\n",
    "# importing matplotlib for printing the plot\n",
    "import matplotlib.pyplot as plt\n",
    "\n",
    "# Importing scipy for working with Mann-Whitney U-Test\n",
    "import scipy\n",
    "import scipy.stats\n",
    "\n",
    "#Importing numpy and statsmodels for Linear Regression \n",
    "import numpy as np\n",
    "import statsmodels.api as sm\n",
    "import sys\n",
    "\n",
    "# calculus for Gradient Descent\n",
    "from sklearn.linear_model import SGDRegressor\n",
    "\n",
    "from ggplot import *\n",
    "\n",
    "# Loading the path of our NYC subway dataset\n",
    "filename = './turnstile_weather_v2.csv'\n",
    "\n",
    "# Let's read our dataset\n",
    "weather_data = pd.read_csv(filename)\n",
    "\n",
    "\n",
    "def entries_histogram(turnstile_weather):\n",
    "      \n",
    "    plt.figure()\n",
    "    #Blue Bars - NO Rain\n",
    "    turnstile_weather[turnstile_weather.rain==0].ENTRIESn_hourly.hist() # your code here to plot a historgram for hourly entries when it is not raining (GREEN)\n",
    "    #Green Bars - Raining\n",
    "    turnstile_weather[turnstile_weather.rain==1].ENTRIESn_hourly.hist() # your code here to plot a historgram for hourly entries when it is raining (BLUE)\n",
    "    plt.title = \"Entries when Raining vs When is not raining\"\n",
    "    return plt\n",
    "\n",
    "entries_histogram(weather_data).show"
   ]
  },
  {
   "cell_type": "markdown",
   "metadata": {},
   "source": [
    "Both Histograms does not seems to follow a Normal Distribution. "
   ]
  },
  {
   "cell_type": "markdown",
   "metadata": {},
   "source": [
    "##Section 1. Statistical Test \n",
    "\n",
    "####1.1 Which statistical test did you use to Analyze the NYC Subway data?\n",
    " \n",
    "  The statistical test used for Analyze NYC Subway data is Mann Whitney U Test. \n",
    " \n",
    "#### Did you use a one-tail or a two-tail P Value ? \n",
    "  \n",
    "   The P value used is Two Tail Test. \n",
    "  \n",
    "\n",
    "#### What is the null hypothesis ? \n",
    "\n",
    "The appropiate hypothesis for this task will be the following: \n",
    "* H0 ( Null hypothesis) : $ P( Rain  >  No Rain ) \\leqq 0.5 $ \n",
    "Probability that Riderships with Rain is larger \n",
    "\n",
    "* H1 ( Alternative hypothises) : $ P( Rain  >  No Rain )  \\gt 0.5 $ \n",
    "\n",
    "#### What is your p-critical value? \n",
    "\n",
    " The p-critical value will be 0.025 since is two-sided Test.\n",
    " \n",
    "#### 1.2 Why is this statistical test applicable to the dataset? \n",
    "  \n",
    " Based on the visualisation for the Histograms, the distributions do not seems to be Normal and based on the assumption We draw the data from unknown distributions We could apply Mann-Whitney U Test.\n",
    " "
   ]
  },
  {
   "cell_type": "code",
   "execution_count": 4,
   "metadata": {
    "collapsed": true
   },
   "outputs": [],
   "source": [
    "def mann_whitney_plus_means(turnstile_weather):\n",
    "  \n",
    "    entries_rain = turnstile_weather[turnstile_weather.rain==1].ENTRIESn_hourly\n",
    "    entries_norain = turnstile_weather[turnstile_weather.rain==0].ENTRIESn_hourly\n",
    "\n",
    "    with_rain_mean = np.mean(entries_rain)\n",
    "    without_rain_mean = np.mean(entries_norain)\n",
    "    U, p = scipy.stats.mannwhitneyu(entries_rain,entries_norain)\n",
    "    \n",
    "    return with_rain_mean, without_rain_mean, U, p*2 # leave this line for the grader\n"
   ]
  },
  {
   "cell_type": "code",
   "execution_count": 5,
   "metadata": {
    "collapsed": false
   },
   "outputs": [
    {
     "name": "stdout",
     "output_type": "stream",
     "text": [
      "(2028.1960354720918, 1845.5394386644084, 153635120.5, nan)\n"
     ]
    }
   ],
   "source": [
    "print mann_whitney_plus_means(weather_data)"
   ]
  },
  {
   "cell_type": "markdown",
   "metadata": {},
   "source": [
    "#### 1.3 What results did you get from this statistical test ? \n",
    " \n",
    " A Mann-Whitney  U Test indicated that Ridership when is Raining (Mean = 2028.1960354720918) was statiscally significant different than Ridership when is not Raining (Mean = 1845.5394386644084), U =153635120.5, p=5.48213e-06 \n",
    " \n",
    "####1.4 What is the significance and interpretation of these results?\n",
    " We reject the null hypothesis since the results are statically significant different. "
   ]
  },
  {
   "cell_type": "markdown",
   "metadata": {},
   "source": [
    "##Section 2. Linear Regression.\n",
    "\n",
    "####2.1 What approach did you use to compute the coefficients theta and produce prediction for ENTRIESn_hourly in your regression model:\n",
    "    OLS using Statsmodels or Scikit Learn\n",
    "    Gradient descent using Scikit Learn\n",
    "    Or something different?\n",
    "    \n",
    "  The approach used for compute coefficients and prediction were : OLS and Gradient Descent\n",
    "    \n",
    "####2.2 What features (input variables) did you use in your model? Did you use any dummy variables as part of your features?\n",
    "\n",
    "    hour - Hour of the timestamp from TIMEn\n",
    "    rain - Indicator (0 or 1) if rain occurred within the calendar day at the location.\n",
    "    fog - Indicator (0 or 1) if there was fog at the time and location.\n",
    "    precipi - Precipitation in inches at the time and location.\n",
    "    tempi - Temperature in ℉ at the time and location.\n",
    "    wspdi - Wind speed in mph at the time and location.\n",
    "    pressurei - Barometric pressure in inches Hg at the time and location.\n",
    "    \n",
    "    meantempi - Daily average of tempi for the location\n",
    "    meanprecipi - Daily average of precipi for the location.\n",
    "    meanwspdi - Daily average of wspdi for the location\n",
    "    meanpressurei - Daily average of pressurei for the location.\n",
    "    \n",
    "    weekday - Indicator (0 or 1) if the date is a weekday (Mon ­ Fri)\n",
    "    day_week - Integer (0 ­ 6 Mon ­ Sun) corresponding to the day of the week.\n",
    "\n",
    "     \n",
    " As part of the features selected a Dummy variable has been selected. \n",
    "     UNIT  - Remote unit that collects turnstile information ( Subway station )\n",
    " \n",
    "\n",
    "####2.3 Why did you select these features in your model? We are looking for specific reasons that lead you to believe that\n",
    "\n",
    " The reasons for select the features in the model were: \n",
    "    Whenever the weather is different than sunny, such as Windy, Rainy or Foggy, riders always prefer to use Subway since they don't have to drive or use bike for going to work, school or college. \n",
    "    Also, It has been selected some features such as rain and means for wind,tempeature,precipitation and pressure. And if it's a weekday on based on the day of the week the values for R squared were improved drastically.\n",
    "\n",
    "####2.4 What are the parameters (also known as \"coefficients\" or \"weights\") of the non-dummy features in your linear regression model?\n",
    " The parameters are the that minimize the least squares criterion for the model. \n",
    " \n"
   ]
  },
  {
   "cell_type": "code",
   "execution_count": 6,
   "metadata": {
    "collapsed": false
   },
   "outputs": [],
   "source": [
    "\n",
    "def linear_regression(features, values):\n",
    "    \"\"\"\n",
    "     Linear regression applied with OLS \n",
    "    \"\"\"\n",
    "\n",
    "    features = sm.add_constant(features)\n",
    "    \n",
    "    model = sm.OLS(values,features)\n",
    "    results = model.fit()\n",
    "    intercept = results.params[0]\n",
    "    parameters = results.params[1:]\n",
    "    #print parameters\n",
    "    return intercept, parameters\n",
    "\n",
    "def predictions(dataframe):\n",
    "   \n",
    "    features = dataframe[['hour','rain','fog','precipi','tempi','wspdi','pressurei',\\\n",
    "                          'meantempi','meanprecipi','meanwspdi','meanpressurei', \\\n",
    "                          'weekday','day_week']]\n",
    "    dummy_units = pd.get_dummies(dataframe['UNIT'], prefix='unit')\n",
    "    features = features.join(dummy_units)\n",
    "\n",
    "    # Values\n",
    "    values = dataframe['ENTRIESn_hourly']\n",
    "\n",
    "    # Perform linear regression\n",
    "    intercept, params = linear_regression(features, values)\n",
    "\n",
    "    predictions = intercept + np.dot(features, params)\n",
    "    return predictions\n"
   ]
  },
  {
   "cell_type": "code",
   "execution_count": 7,
   "metadata": {
    "collapsed": false
   },
   "outputs": [],
   "source": [
    "pred =  predictions(weather_data)\n",
    "#print pred.shape\n",
    "#print weather_data['ENTRIESn_hourly'].shape"
   ]
  },
  {
   "cell_type": "code",
   "execution_count": 8,
   "metadata": {
    "collapsed": true
   },
   "outputs": [],
   "source": [
    "def compute_r_squared(data, predictions):\n",
    "    '''data - refers to data points collected\n",
    "       predictions - based on features selected we calculate \n",
    "    '''\n",
    "    mean_p = np.mean(data) # mean of observations\n",
    "    sse = np.sum((data-predictions)**2) #sum squared error\n",
    "    sst = np.sum((data-mean_p)**2) # total sum of squares\n",
    "\n",
    "    r_squared = 1 - ( sse / sst )\n",
    "    #print data.shape\n",
    "    #print predictions.shape\n",
    "    \n",
    "    return r_squared"
   ]
  },
  {
   "cell_type": "code",
   "execution_count": 9,
   "metadata": {
    "collapsed": false
   },
   "outputs": [
    {
     "name": "stdout",
     "output_type": "stream",
     "text": [
      "R-squared =  0.489231502009\n"
     ]
    }
   ],
   "source": [
    "dataPoints = weather_data['ENTRIESn_hourly']\n",
    "r_squared = compute_r_squared(dataPoints,pred)\n",
    "print \"R-squared = \",r_squared"
   ]
  },
  {
   "cell_type": "markdown",
   "metadata": {
    "collapsed": true
   },
   "source": [
    "####2.5 What is your model’s R2 (coefficients of determination) value?\n",
    "$ R^2$  = 0.48923\n",
    "\n",
    "####2.6 What does this R2 value mean for the goodness of fit for your regression model? Do you think this linear model to predict ridership is appropriate for this dataset, given this R2  value?\n",
    "\n",
    "This value is a good fit for the model since is superior to 0.40 and more closer to 1. \n",
    "\n",
    "Nevertheless, let's take a look trough plotting some residuals for the model. "
   ]
  },
  {
   "cell_type": "code",
   "execution_count": 10,
   "metadata": {
    "collapsed": true
   },
   "outputs": [],
   "source": [
    "def plot_residuals(turnstile_weather, predictions):\n",
    "    plt.figure()\n",
    "    (turnstile_weather['EXITSn_hourly'] - predictions).hist()\n",
    "    return plt"
   ]
  },
  {
   "cell_type": "code",
   "execution_count": 11,
   "metadata": {
    "collapsed": false
   },
   "outputs": [
    {
     "name": "stdout",
     "output_type": "stream",
     "text": [
      "<module 'matplotlib.pyplot' from 'c:\\Users\\luzcategui\\AppData\\Local\\Continuum\\Anaconda\\lib\\site-packages\\matplotlib\\pyplot.pyc'>\n"
     ]
    },
    {
     "data": {
      "image/png": "[encoded data removed]",
      "text/plain": [
       "<matplotlib.figure.Figure at 0x3b86d68>"
      ]
     },
     "metadata": {},
     "output_type": "display_data"
    }
   ],
   "source": [
    "print plot_residuals(weather_data,pred)"
   ]
  },
  {
   "cell_type": "markdown",
   "metadata": {},
   "source": [
    "Also The model has been predicted using Gradient Descent as well."
   ]
  },
  {
   "cell_type": "code",
   "execution_count": 12,
   "metadata": {
    "collapsed": true
   },
   "outputs": [],
   "source": [
    "def normalize_features(features):\n",
    "    '''\n",
    "    Returns the means and standard deviations of the given features, along with a normalized feature\n",
    "    matrix.\n",
    "    '''\n",
    "    means = np.mean(features, axis=0)\n",
    "    std_devs = np.std(features, axis=0)\n",
    "    normalized_features = (features - means) / std_devs\n",
    "    return means, std_devs, normalized_features\n",
    "\n",
    "def recover_params(means, std_devs, norm_intercept, norm_params):\n",
    "    '''\n",
    "    Recovers the weights for a linear model given parameters that were fitted using\n",
    "    normalized features. Takes the means and standard deviations of the original\n",
    "    features, along with the intercept and parameters computed using the normalized\n",
    "    features, and returns the intercept and parameters that correspond to the original\n",
    "    features.\n",
    "    '''\n",
    "    intercept = norm_intercept - np.sum(means * norm_params / std_devs)\n",
    "    params = norm_params / std_devs\n",
    "    return intercept, params\n",
    "\n",
    "def linear_regression(features, values):\n",
    "    \"\"\"\n",
    "    Perform linear regression given a data set with an arbitrary number of features.\n",
    "    \"\"\"\n",
    "    clf = SGDRegressor(n_iter=100)\n",
    "    clf.fit(features, values)\n",
    "    intercept = clf.intercept_\n",
    "    params = clf.coef_\n",
    " \n",
    "    return intercept, params\n",
    "\n",
    "def predictions(dataframe):\n",
    "    '''\n",
    "    The NYC turnstile data is stored in a pandas dataframe called weather_turnstile.\n",
    "    Using the information stored in the dataframe, let's predict the ridership of\n",
    "    the NYC subway using linear regression with gradient descent.\n",
    "    '''\n",
    "    \n",
    "    features =  dataframe[['hour','rain','fog','precipi','tempi','wspdi','pressurei',\\\n",
    "                          'meantempi','meanprecipi','meanwspdi','meanpressurei', \\\n",
    "                          'weekday','day_week']]\n",
    "    \n",
    "    dummy_units = pd.get_dummies(dataframe['UNIT'], prefix='unit')\n",
    "    features = features.join(dummy_units)\n",
    "\n",
    "    # Values\n",
    "    values = dataframe['ENTRIESn_hourly']\n",
    "\n",
    "    # Get numpy arrays\n",
    "    features_array = features.values\n",
    "    values_array = values.values\n",
    "\n",
    "    means, std_devs, normalized_features_array = normalize_features(features_array)\n",
    "\n",
    "    # Perform gradient descent\n",
    "    norm_intercept, norm_params = linear_regression(normalized_features_array, values_array)\n",
    "\n",
    "    intercept, params = recover_params(means, std_devs, norm_intercept, norm_params)\n",
    "\n",
    "    predictions = intercept + np.dot(features_array, params)\n",
    "\n",
    "    return predictions\n"
   ]
  },
  {
   "cell_type": "code",
   "execution_count": 13,
   "metadata": {
    "collapsed": false
   },
   "outputs": [
    {
     "name": "stdout",
     "output_type": "stream",
     "text": [
      "R-squared =  0.477968159264\n"
     ]
    }
   ],
   "source": [
    "#get predictions from gradient descent \n",
    "pred_gd = predictions(weather_data)\n",
    "\n",
    "#calculate r-squared for Gradient descent predictions \n",
    "r_squared = compute_r_squared(dataPoints,pred_gd)\n",
    "print \"R-squared = \",r_squared\n"
   ]
  },
  {
   "cell_type": "markdown",
   "metadata": {},
   "source": [
    "##Section 3. Visualization\n",
    "\n",
    "\n"
   ]
  },
  {
   "cell_type": "code",
   "execution_count": 45,
   "metadata": {
    "collapsed": false
   },
   "outputs": [
    {
     "data": {
      "image/png": "[encoded data removed]",
      "text/plain": [
       "<matplotlib.figure.Figure at 0x1c20d400>"
      ]
     },
     "metadata": {},
     "output_type": "display_data"
    },
    {
     "name": "stdout",
     "output_type": "stream",
     "text": [
      "<ggplot: (29040609)>\n"
     ]
    }
   ],
   "source": [
    "def entries_histogram_rain(turnstile_weather):\n",
    "    \n",
    "    r_plot = ggplot(aes(x='ENTRIESn_hourly'), turnstile_weather) + geom_histogram(binwidth=1000, colour = \"black\",\\\n",
    "                                                                                  fill=\"blue\")\n",
    "    return r_plot\n",
    "\n",
    "weather_rain = weather_data[weather_data.rain == 1]\n",
    "print entries_histogram_rain(weather_rain)"
   ]
  },
  {
   "cell_type": "code",
   "execution_count": 51,
   "metadata": {
    "collapsed": false
   },
   "outputs": [
    {
     "data": {
      "image/png": "[encoded data removed]",
      "text/plain": [
       "<matplotlib.figure.Figure at 0x1fc07b38>"
      ]
     },
     "metadata": {},
     "output_type": "display_data"
    },
    {
     "name": "stdout",
     "output_type": "stream",
     "text": [
      "<ggplot: (29492473)>\n"
     ]
    }
   ],
   "source": [
    "def entries_histogram_Norain(turnstile_weather):\n",
    "      \n",
    "    r_plot = ggplot(aes(x='ENTRIESn_hourly'), turnstile_weather) + geom_histogram(binwidth=1000,colour = \"black\", fill=\"green\" )\n",
    "    return r_plot\n",
    "\n",
    "weather_Norain = weather_data[weather_data.rain == 0]\n",
    "print entries_histogram_Norain(weather_Norain)"
   ]
  },
  {
   "cell_type": "code",
   "execution_count": 54,
   "metadata": {
    "collapsed": false
   },
   "outputs": [
    {
     "data": {
      "image/png": "[encoded data removed]",
      "text/plain": [
       "<matplotlib.figure.Figure at 0x1f47a160>"
      ]
     },
     "metadata": {},
     "output_type": "display_data"
    },
    {
     "name": "stdout",
     "output_type": "stream",
     "text": [
      "<ggplot: (32799436)>\n"
     ]
    }
   ],
   "source": [
    "def plot_weather_data(turnstile_weather):\n",
    "\n",
    "    # number of exits and entries by day\n",
    "    # number of exits and entries by station\n",
    "    # number of entries by stations when is raining\n",
    "    pd.options.mode.chained_assignment = None\n",
    "    \n",
    "    #Red Line - No Rain \n",
    "    #Blue Line - Rain\n",
    "    g = turnstile_weather.groupby(['hour','rain']).sum().reset_index()\n",
    "    pplot = ggplot(g, aes('hour', 'ENTRIESn_hourly', color='rain')) + geom_point() + geom_line()\n",
    "\n",
    "    return pplot\n",
    "\n",
    "print plot_weather_data(weather_data)\n"
   ]
  },
  {
   "cell_type": "code",
   "execution_count": null,
   "metadata": {
    "collapsed": false
   },
   "outputs": [],
   "source": []
  },
  {
   "cell_type": "code",
   "execution_count": null,
   "metadata": {
    "collapsed": true
   },
   "outputs": [],
   "source": []
  }
 ],
 "metadata": {
  "kernelspec": {
   "display_name": "Python 2",
   "language": "python",
   "name": "python2"
  },
  "language_info": {
   "codemirror_mode": {
    "name": "ipython",
    "version": 2
   },
   "file_extension": ".py",
   "mimetype": "text/x-python",
   "name": "python",
   "nbconvert_exporter": "python",
   "pygments_lexer": "ipython2",
   "version": "2.7.10"
  }
 },
 "nbformat": 4,
 "nbformat_minor": 0
}
