{
 "cells": [
  {
   "cell_type": "markdown",
   "metadata": {},
   "source": [
    "# Project 2 - Analyzing the NYC Subway Dataset\n",
    "'''\n",
    "Created by Laura Uzcategui \n",
    "Date : 30 Sept 2015 \n",
    "'''\n"
   ]
  },
  {
   "cell_type": "markdown",
   "metadata": {},
   "source": [
    "# Subway Ridership \n",
    "\n",
    "Subway ridership consists of all passengers (other than NYC Transit employees) who enter the subway system, including passengers who transfer from buses.  Ridership does not include passengers who exit the subway or passengers who transfer from other subway lines, with the exception of out-of-system transfers; e.g., between the Lexington Av/63 St F subwaystation and the Lexington Avenue N subwayQ subwayR subway/59 St4 subway5 subway6 subwaystation, where customers use their MetroCard to make the transfer.\n",
    "\n",
    "This project has the purpose to analyze and investigate if more people ride the Subway when is raining vs when it is not raining. [1]"
   ]
  },
  {
   "cell_type": "code",
   "execution_count": 40,
   "metadata": {
    "collapsed": false
   },
   "outputs": [
    {
     "name": "stdout",
     "output_type": "stream",
     "text": [
      "Populating the interactive namespace from numpy and matplotlib\n"
     ]
    },
    {
     "name": "stderr",
     "output_type": "stream",
     "text": [
      "WARNING: pylab import has clobbered these variables: ['xlim', 'ylim']\n",
      "`%matplotlib` prevents importing * from pylab and numpy\n"
     ]
    },
    {
     "data": {
      "text/plain": [
       "<function matplotlib.pyplot.show>"
      ]
     },
     "execution_count": 40,
     "metadata": {},
     "output_type": "execute_result"
    },
    {
     "data": {
      "image/png": "[encoded data removed]",
      "text/plain": [
       "<matplotlib.figure.Figure at 0x7f6e75d9e090>"
      ]
     },
     "metadata": {},
     "output_type": "display_data"
    }
   ],
   "source": [
    "# making available graphs inline\n",
    "%pylab inline\n",
    "# importing pandas for manipulation of data\n",
    "import pandas as pd\n",
    "# importing matplotlib for printing the plot\n",
    "import matplotlib.pyplot as plt\n",
    "\n",
    "# Importing scipy for working with Mann-Whitney U-Test\n",
    "import scipy\n",
    "import scipy.stats\n",
    "\n",
    "#Importing numpy and statsmodels for Linear Regression \n",
    "import numpy as np\n",
    "import statsmodels.api as sm\n",
    "import sys\n",
    "\n",
    "# calculus for Gradient Descent\n",
    "from sklearn.linear_model import SGDRegressor\n",
    "\n",
    "from ggplot import *\n",
    "\n",
    "# Loading the path of our NYC subway dataset\n",
    "filename = './turnstile_weather_v2.csv'\n",
    "\n",
    "# Let's read our dataset\n",
    "weather_data = pd.read_csv(filename)\n",
    "\n",
    "\n",
    "def entries_histogram(turnstile_weather):\n",
    "      \n",
    "    plt.figure()\n",
    "    #Blue Bars - NO Rain\n",
    "    turnstile_weather[turnstile_weather.rain==0].ENTRIESn_hourly.hist() # your code here to plot a historgram for hourly entries when it is not raining (GREEN)\n",
    "    #Green Bars - Raining\n",
    "    turnstile_weather[turnstile_weather.rain==1].ENTRIESn_hourly.hist() # your code here to plot a historgram for hourly entries when it is raining (BLUE)\n",
    "    plt.title = \"Entries when Raining vs When is not raining\"\n",
    "    return plt\n",
    "\n",
    "entries_histogram(weather_data).show"
   ]
  },
  {
   "cell_type": "markdown",
   "metadata": {},
   "source": [
    "Both Histograms does not seems to follow a Normal Distribution. "
   ]
  },
  {
   "cell_type": "markdown",
   "metadata": {},
   "source": [
    "##Section 1. Statistical Test \n",
    "\n",
    "####1.1 Which statistical test did you use to Analyze the NYC Subway data?\n",
    " \n",
    "  The statistical test used for Analyze NYC Subway data is Mann Whitney U Test. \n",
    " \n",
    "#### Did you use a one-tail or a two-tail P Value ? \n",
    "  \n",
    "   The P value used is Two Tail Test. \n",
    "  \n",
    "\n",
    "#### What is the null hypothesis ? \n",
    "\n",
    "The appropiate hypothesis for this task will be the following: \n",
    "* H0 ( Null hypothesis) : $ P( Rain  >  No Rain ) \\leqq 0.5 $ \n",
    "Probability that Riderships with Rain is larger \n",
    "\n",
    "* H1 ( Alternative hypothises) : $ P( Rain  >  No Rain )  \\gt 0.5 $ \n",
    "\n",
    "#### What is your p-critical value? \n",
    "\n",
    " The p-critical value will be 0.025 since is two-sided Test.\n",
    " \n",
    "#### 1.2 Why is this statistical test applicable to the dataset? \n",
    "  \n",
    " Based on the visualisation for the Histograms, the distributions do not seems to be Normal and based on the assumption We draw the data from unknown distributions We could apply Mann-Whitney U Test.\n",
    " "
   ]
  },
  {
   "cell_type": "code",
   "execution_count": 41,
   "metadata": {
    "collapsed": true
   },
   "outputs": [],
   "source": [
    "def mann_whitney_plus_means(turnstile_weather):\n",
    "  \n",
    "    entries_rain = turnstile_weather[turnstile_weather.rain==1].ENTRIESn_hourly\n",
    "    entries_norain = turnstile_weather[turnstile_weather.rain==0].ENTRIESn_hourly\n",
    "\n",
    "    with_rain_mean = np.mean(entries_rain)\n",
    "    without_rain_mean = np.mean(entries_norain)\n",
    "    U, p = scipy.stats.mannwhitneyu(entries_rain,entries_norain)\n",
    "    \n",
    "    return with_rain_mean, without_rain_mean, U, p*2 # leave this line for the grader\n"
   ]
  },
  {
   "cell_type": "code",
   "execution_count": 42,
   "metadata": {
    "collapsed": false
   },
   "outputs": [
    {
     "name": "stdout",
     "output_type": "stream",
     "text": [
      "(2028.1960354720918, 1845.5394386644084, 153635120.5, 5.4821391424874991e-06)\n"
     ]
    }
   ],
   "source": [
    "print mann_whitney_plus_means(weather_data)"
   ]
  },
  {
   "cell_type": "markdown",
   "metadata": {},
   "source": [
    "#### 1.3 What results did you get from this statistical test ? \n",
    " \n",
    " A Mann-Whitney  U Test indicated that Ridership when is Raining (Mean = 2028.1960354720918) was statiscally significant different than Ridership when is not Raining (Mean = 1845.5394386644084), U =153635120.5, p=5.48213e-06 \n",
    " \n",
    "####1.4 What is the significance and interpretation of these results?\n",
    " We reject the null hypothesis since the results are statically significant different and it falls within the critical region"
   ]
  },
  {
   "cell_type": "markdown",
   "metadata": {},
   "source": [
    "##Section 2. Linear Regression.\n",
    "\n",
    "####2.1 What approach did you use to compute the coefficients theta and produce prediction for ENTRIESn_hourly in your regression model:\n",
    "    \n",
    "  The approach used for compute coefficients and prediction were : OLS and Gradient Descent\n",
    "    \n",
    "####2.2 What features (input variables) did you use in your model? Did you use any dummy variables as part of your features?\n",
    "\n",
    "    hour - Hour of the timestamp from TIMEn\n",
    "    rain - Indicator (0 or 1) if rain occurred within the calendar day at the location.\n",
    "    fog - Indicator (0 or 1) if there was fog at the time and location.\n",
    "    precipi - Precipitation in inches at the time and location.\n",
    "    tempi - Temperature in ℉ at the time and location.\n",
    "    wspdi - Wind speed in mph at the time and location.\n",
    "    pressurei - Barometric pressure in inches Hg at the time and location.\n",
    "    \n",
    "    meantempi - Daily average of tempi for the location\n",
    "    meanprecipi - Daily average of precipi for the location.\n",
    "    meanwspdi - Daily average of wspdi for the location\n",
    "    meanpressurei - Daily average of pressurei for the location.\n",
    "    \n",
    "    weekday - Indicator (0 or 1) if the date is a weekday (Mon ­ Fri)\n",
    "    day_week - Integer (0 ­ 6 Mon ­ Sun) corresponding to the day of the week.\n",
    "\n",
    "     \n",
    " As part of the features selected a Dummy variable has been selected. \n",
    "     UNIT  - Remote unit that collects turnstile information ( Subway station )\n",
    " \n",
    "\n",
    "####2.3 Why did you select these features in your model? We are looking for specific reasons that lead you to believe that\n",
    "\n",
    " The reasons for select the features in the model were: \n",
    "    Whenever the weather is different than sunny, such as Windy (wspdi), Rainy(rain) or Foggy(fog), riders always prefer to use Subway since they don't have to drive or use bike for going to work, school or college. \n",
    "    Also, It has been selected some features such as rain and means for wind,tempeature,precipitation and pressure. And if it's a weekday on based on the day of the week the values for R squared were improved drastically.\n"
   ]
  },
  {
   "cell_type": "code",
   "execution_count": 43,
   "metadata": {
    "collapsed": false
   },
   "outputs": [],
   "source": [
    "def linear_regression(features, values):\n",
    "    \"\"\"\n",
    "     Linear regression applied with OLS \n",
    "    \"\"\"\n",
    "\n",
    "    features = sm.add_constant(features)\n",
    "    \n",
    "    model = sm.OLS(values,features)\n",
    "    results = model.fit()\n",
    "    intercept = results.params[0]\n",
    "    parameters = results.params[1:]\n",
    "    print results.summary()\n",
    "    #print parameters\n",
    "    return intercept, parameters\n",
    "\n",
    "def predictions(dataframe):\n",
    "   \n",
    "    features = dataframe[['hour','rain','fog','precipi','tempi','wspdi','pressurei',\\\n",
    "                          'meantempi','meanprecipi','meanwspdi','meanpressurei', \\\n",
    "                          'weekday','day_week']]\n",
    "    dummy_units = pd.get_dummies(dataframe['UNIT'], prefix='unit')\n",
    "    features = features.join(dummy_units)\n",
    "\n",
    "    # Values\n",
    "    values = dataframe['ENTRIESn_hourly']\n",
    "\n",
    "    # Perform linear regression\n",
    "    intercept, params = linear_regression(features, values)\n",
    "\n",
    "    predictions = intercept + np.dot(features, params)\n",
    "    return predictions\n"
   ]
  },
  {
   "cell_type": "markdown",
   "metadata": {},
   "source": [
    "\n",
    "####2.4 What are the parameters (also known as \"coefficients\" or \"weights\") of the non-dummy features in your linear regression model?\n",
    " The parameters are the that minimize the least squares criterion for the model. \n",
    " \n",
    "  Please observe the table below in which the coeffiecients of the non-dummy features can be appreciated.\n"
   ]
  },
  {
   "cell_type": "code",
   "execution_count": 44,
   "metadata": {
    "collapsed": false,
    "slideshow": {
     "slide_type": "-"
    }
   },
   "outputs": [
    {
     "name": "stdout",
     "output_type": "stream",
     "text": [
      "                            OLS Regression Results                            \n",
      "==============================================================================\n",
      "Dep. Variable:        ENTRIESn_hourly   R-squared:                       0.489\n",
      "Model:                            OLS   Adj. R-squared:                  0.486\n",
      "Method:                 Least Squares   F-statistic:                     161.1\n",
      "Date:                Wed, 14 Oct 2015   Prob (F-statistic):               0.00\n",
      "Time:                        23:12:51   Log-Likelihood:            -3.8697e+05\n",
      "No. Observations:               42649   AIC:                         7.744e+05\n",
      "Df Residuals:                   42396   BIC:                         7.766e+05\n",
      "Df Model:                         252                                         \n",
      "Covariance Type:            nonrobust                                         \n",
      "=================================================================================\n",
      "                    coef    std err          t      P>|t|      [95.0% Conf. Int.]\n",
      "---------------------------------------------------------------------------------\n",
      "const          1.367e+04   2609.729      5.237      0.000      8550.822  1.88e+04\n",
      "hour            104.9622      1.782     58.916      0.000       101.470   108.454\n",
      "rain           -114.7534     32.668     -3.513      0.000      -178.783   -50.724\n",
      "fog            -152.1780    112.976     -1.347      0.178      -373.614    69.258\n",
      "precipi       -5108.1615    562.017     -9.089      0.000     -6209.726 -4006.597\n",
      "tempi            40.4859      2.542     15.930      0.000        35.504    45.467\n",
      "wspdi            14.6805      3.588      4.091      0.000         7.647    21.713\n",
      "pressurei      -795.8717    256.122     -3.107      0.002     -1297.875  -293.868\n",
      "meantempi       -54.3387      3.010    -18.052      0.000       -60.239   -48.439\n",
      "meanprecipi    6322.0393   1004.793      6.292      0.000      4352.625  8291.454\n",
      "meanwspdi       -17.1337      6.266     -2.735      0.006       -29.414    -4.853\n",
      "meanpressurei   357.3586    270.370      1.322      0.186      -172.571   887.288\n",
      "weekday        1267.7735     38.875     32.612      0.000      1191.578  1343.969\n",
      "day_week         73.5855      8.916      8.253      0.000        56.110    91.061\n",
      "unit_R003     -1577.6377    163.946     -9.623      0.000     -1898.975 -1256.300\n",
      "unit_R004     -1241.6769    160.987     -7.713      0.000     -1557.214  -926.140\n",
      "unit_R005     -1249.0368    162.310     -7.695      0.000     -1567.167  -930.907\n",
      "unit_R006     -1129.6466    158.888     -7.110      0.000     -1441.070  -818.223\n",
      "unit_R007     -1408.9574    163.352     -8.625      0.000     -1729.131 -1088.784\n",
      "unit_R008     -1398.7713    163.747     -8.542      0.000     -1719.718 -1077.825\n",
      "unit_R009     -1454.9681    161.034     -9.035      0.000     -1770.598 -1139.338\n",
      "unit_R011      5581.6511    156.216     35.730      0.000      5275.465  5887.837\n",
      "unit_R012      6924.4523    155.374     44.566      0.000      6619.916  7228.988\n",
      "unit_R013       822.8932    155.374      5.296      0.000       518.357  1127.429\n",
      "unit_R016      -988.0555    156.206     -6.325      0.000     -1294.223  -681.888\n",
      "unit_R017      2437.8878    155.374     15.690      0.000      2133.352  2742.424\n",
      "unit_R018      6027.1661    156.326     38.555      0.000      5720.764  6333.568\n",
      "unit_R019      1493.7772    156.330      9.555      0.000      1187.367  1800.187\n",
      "unit_R020      4613.9846    155.374     29.696      0.000      4309.448  4918.521\n",
      "unit_R021      2935.0122    156.210     18.789      0.000      2628.837  3241.187\n",
      "unit_R022      7758.3771    155.374     49.934      0.000      7453.841  8062.913\n",
      "unit_R023      4393.5545    155.374     28.277      0.000      4089.018  4698.091\n",
      "unit_R024      1460.7843    156.737      9.320      0.000      1153.577  1767.991\n",
      "unit_R025      3590.6697    156.330     22.969      0.000      3284.259  3897.080\n",
      "unit_R027      1207.9900    155.374      7.775      0.000       903.454  1512.526\n",
      "unit_R029      5469.9631    155.374     35.205      0.000      5165.427  5774.499\n",
      "unit_R030      1340.1566    155.374      8.625      0.000      1035.620  1644.693\n",
      "unit_R031      2591.9254    155.374     16.682      0.000      2287.389  2896.462\n",
      "unit_R032      2692.5471    155.789     17.283      0.000      2387.198  2997.896\n",
      "unit_R033      6474.9362    155.374     41.673      0.000      6170.400  6779.472\n",
      "unit_R034      -574.3923    162.422     -3.536      0.000      -892.742  -256.043\n",
      "unit_R035      1046.4586    156.209      6.699      0.000       740.286  1352.631\n",
      "unit_R036      -981.2074    159.790     -6.141      0.000     -1294.400  -668.015\n",
      "unit_R037      -898.6220    157.137     -5.719      0.000     -1206.613  -590.631\n",
      "unit_R038     -1529.8343    160.681     -9.521      0.000     -1844.772 -1214.897\n",
      "unit_R039      -973.3267    164.817     -5.906      0.000     -1296.371  -650.283\n",
      "unit_R040      -497.2452    156.720     -3.173      0.002      -804.420  -190.071\n",
      "unit_R041      1339.9685    155.374      8.624      0.000      1035.432  1644.505\n",
      "unit_R042     -1143.0093    157.901     -7.239      0.000     -1452.499  -833.520\n",
      "unit_R043      1127.1029    155.374      7.254      0.000       822.567  1431.639\n",
      "unit_R044      2918.5115    155.374     18.784      0.000      2613.975  3223.048\n",
      "unit_R046      6584.9631    155.374     42.381      0.000      6280.427  6889.499\n",
      "unit_R049      1012.7749    155.374      6.518      0.000       708.239  1317.311\n",
      "unit_R050      2267.9798    156.210     14.519      0.000      1961.805  2574.155\n",
      "unit_R051      3374.5168    155.374     21.719      0.000      3069.981  3679.053\n",
      "unit_R052      -493.8180    162.091     -3.047      0.002      -811.519  -176.117\n",
      "unit_R053      1426.6068    156.757      9.101      0.000      1119.360  1733.854\n",
      "unit_R054      -290.3617    156.208     -1.859      0.063      -596.532    15.808\n",
      "unit_R055      6582.4335    155.903     42.221      0.000      6276.860  6888.007\n",
      "unit_R056      -305.2837    156.216     -1.954      0.051      -611.470     0.903\n",
      "unit_R057      3122.9039    155.374     20.099      0.000      2818.368  3427.440\n",
      "unit_R058     -1112.0614    155.784     -7.139      0.000     -1417.400  -806.722\n",
      "unit_R059      -542.6825    159.211     -3.409      0.001      -854.739  -230.626\n",
      "unit_R060      -938.4506    157.904     -5.943      0.000     -1247.947  -628.955\n",
      "unit_R061     -1104.2188    163.870     -6.738      0.000     -1425.407  -783.031\n",
      "unit_R062       976.7642    155.374      6.287      0.000       672.228  1281.300\n",
      "unit_R063      -537.0509    163.386     -3.287      0.001      -857.292  -216.810\n",
      "unit_R064      -899.0563    159.679     -5.630      0.000     -1212.030  -586.082\n",
      "unit_R065      -858.3688    161.479     -5.316      0.000     -1174.870  -541.867\n",
      "unit_R066     -1445.3751    162.427     -8.899      0.000     -1763.736 -1127.014\n",
      "unit_R067      -834.5772    164.472     -5.074      0.000     -1156.946  -512.208\n",
      "unit_R068     -1227.9125    164.455     -7.467      0.000     -1550.247  -905.578\n",
      "unit_R069      -770.4383    161.577     -4.768      0.000     -1087.133  -453.744\n",
      "unit_R070        27.7426    155.374      0.179      0.858      -276.793   332.279\n",
      "unit_R080      1852.0706    155.374     11.920      0.000      1547.534  2156.607\n",
      "unit_R081      1800.8048    156.217     11.528      0.000      1494.616  2106.993\n",
      "unit_R082      -246.0598    156.206     -1.575      0.115      -552.227    60.107\n",
      "unit_R083      1366.4792    155.374      8.795      0.000      1061.943  1671.015\n",
      "unit_R084      8270.7534    155.374     53.231      0.000      7966.217  8575.290\n",
      "unit_R085       863.5242    156.204      5.528      0.000       557.361  1169.687\n",
      "unit_R086       840.0706    155.374      5.407      0.000       535.534  1144.607\n",
      "unit_R087      -512.8935    157.063     -3.266      0.001      -820.739  -205.048\n",
      "unit_R089     -1234.2674    156.206     -7.902      0.000     -1540.435  -928.100\n",
      "unit_R090     -1286.7637    164.434     -7.825      0.000     -1609.057  -964.470\n",
      "unit_R091      -575.8222    163.019     -3.532      0.000      -895.342  -256.302\n",
      "unit_R092       270.1345    160.181      1.686      0.092       -43.823   584.092\n",
      "unit_R093       297.5821    161.042      1.848      0.065       -18.063   613.228\n",
      "unit_R094        28.1342    156.718      0.180      0.858      -279.037   335.306\n",
      "unit_R095       441.1356    158.017      2.792      0.005       131.419   750.852\n",
      "unit_R096       615.0451    156.301      3.935      0.000       308.693   921.398\n",
      "unit_R097      1236.2039    156.326      7.908      0.000       929.802  1542.606\n",
      "unit_R098        74.6297    155.374      0.480      0.631      -229.906   379.166\n",
      "unit_R099       631.6566    155.374      4.065      0.000       327.120   936.193\n",
      "unit_R100     -1175.3183    157.606     -7.457      0.000     -1484.230  -866.407\n",
      "unit_R101      1066.0491    155.374      6.861      0.000       761.513  1370.585\n",
      "unit_R102      1954.8878    155.374     12.582      0.000      1650.352  2259.424\n",
      "unit_R103      -295.5065    162.007     -1.824      0.068      -613.043    22.030\n",
      "unit_R104      -384.4991    156.711     -2.454      0.014      -691.656   -77.342\n",
      "unit_R105      1604.5867    155.374     10.327      0.000      1300.051  1909.123\n",
      "unit_R106      -571.9333    164.394     -3.479      0.001      -894.148  -249.719\n",
      "unit_R107     -1158.0174    164.984     -7.019      0.000     -1481.389  -834.646\n",
      "unit_R108      3493.7534    155.374     22.486      0.000      3189.217  3798.290\n",
      "unit_R111      1490.8771    155.374      9.595      0.000      1186.341  1795.413\n",
      "unit_R112       -43.2685    156.301     -0.277      0.782      -349.621   263.084\n",
      "unit_R114      -836.6344    156.747     -5.337      0.000     -1143.863  -529.406\n",
      "unit_R115      -458.7336    156.330     -2.934      0.003      -765.144  -152.323\n",
      "unit_R116      1470.0222    155.374      9.461      0.000      1165.486  1774.558\n",
      "unit_R117      -794.5486    163.910     -4.847      0.000     -1115.816  -473.281\n",
      "unit_R119       159.0482    158.838      1.001      0.317      -152.278   470.374\n",
      "unit_R120      -178.2287    161.127     -1.106      0.269      -494.042   137.584\n",
      "unit_R121      -218.8226    159.671     -1.370      0.171      -531.781    94.136\n",
      "unit_R122       858.4908    158.037      5.432      0.000       548.735  1168.247\n",
      "unit_R123       -79.7745    157.920     -0.505      0.613      -389.302   229.752\n",
      "unit_R124     -1021.9785    161.947     -6.311      0.000     -1339.397  -704.560\n",
      "unit_R126       131.9308    155.374      0.849      0.396      -172.605   436.467\n",
      "unit_R127      3072.6405    155.374     19.776      0.000      2768.104  3377.177\n",
      "unit_R137       728.3421    155.903      4.672      0.000       422.769  1033.915\n",
      "unit_R139       812.3664    155.784      5.215      0.000       507.026  1117.707\n",
      "unit_R163      1608.3771    155.374     10.352      0.000      1303.841  1912.913\n",
      "unit_R172       174.4147    155.374      1.123      0.262      -130.121   478.951\n",
      "unit_R179      5055.1889    155.374     32.536      0.000      4750.653  5359.725\n",
      "unit_R181        71.8421    158.342      0.454      0.650      -238.512   382.196\n",
      "unit_R183      -876.2785    164.893     -5.314      0.000     -1199.473  -553.084\n",
      "unit_R184      -651.0586    162.412     -4.009      0.000      -969.390  -332.727\n",
      "unit_R186      -617.9411    157.482     -3.924      0.000      -926.610  -309.273\n",
      "unit_R188       614.2498    155.789      3.943      0.000       308.901   919.599\n",
      "unit_R189      -283.7402    159.220     -1.782      0.075      -595.815    28.335\n",
      "unit_R194       297.8620    158.358      1.881      0.060       -12.523   608.247\n",
      "unit_R196      -378.5564    156.626     -2.417      0.016      -685.546   -71.567\n",
      "unit_R198       401.2481    156.203      2.569      0.010        95.086   707.410\n",
      "unit_R199      -974.3971    158.340     -6.154      0.000     -1284.746  -664.048\n",
      "unit_R200      -644.5091    157.962     -4.080      0.000      -954.118  -334.900\n",
      "unit_R202       513.5726    156.721      3.277      0.001       206.397   820.748\n",
      "unit_R203        81.7750    160.122      0.511      0.610      -232.068   395.618\n",
      "unit_R204      -264.0853    155.374     -1.700      0.089      -568.621    40.451\n",
      "unit_R205      -188.7592    157.588     -1.198      0.231      -497.635   120.116\n",
      "unit_R207       290.4393    155.792      1.864      0.062       -14.917   595.795\n",
      "unit_R208       818.6963    157.570      5.196      0.000       509.856  1127.537\n",
      "unit_R209      -852.7927    163.388     -5.219      0.000     -1173.037  -532.549\n",
      "unit_R210     -1137.6650    159.235     -7.145      0.000     -1449.769  -825.562\n",
      "unit_R211       693.3448    155.374      4.462      0.000       388.809   997.881\n",
      "unit_R212       -19.7884    155.792     -0.127      0.899      -325.144   285.568\n",
      "unit_R213      -522.1128    158.781     -3.288      0.001      -833.326  -210.899\n",
      "unit_R214      -981.4063    163.865     -5.989      0.000     -1302.584  -660.228\n",
      "unit_R215      -105.9581    156.203     -0.678      0.498      -412.119   200.203\n",
      "unit_R216      -936.5670    156.204     -5.996      0.000     -1242.731  -630.404\n",
      "unit_R217      -653.0379    163.381     -3.997      0.000      -973.268  -332.808\n",
      "unit_R218       280.1880    156.319      1.792      0.073       -26.201   586.577\n",
      "unit_R219      -434.7665    156.739     -2.774      0.006      -741.978  -127.555\n",
      "unit_R220      -231.9294    155.374     -1.493      0.136      -536.466    72.607\n",
      "unit_R221      -243.1157    163.870     -1.484      0.138      -564.305    78.073\n",
      "unit_R223       418.9910    156.301      2.681      0.007       112.638   725.344\n",
      "unit_R224      -937.0027    159.663     -5.869      0.000     -1249.945  -624.061\n",
      "unit_R225     -1121.3842    157.488     -7.120      0.000     -1430.065  -812.704\n",
      "unit_R226      -916.6564    163.021     -5.623      0.000     -1236.180  -597.133\n",
      "unit_R227      -612.6660    155.374     -3.943      0.000      -917.202  -308.130\n",
      "unit_R228      -551.6240    162.878     -3.387      0.001      -870.869  -232.379\n",
      "unit_R229     -1086.6488    161.968     -6.709      0.000     -1404.110  -769.188\n",
      "unit_R230     -1145.3522    160.123     -7.153      0.000     -1459.197  -831.508\n",
      "unit_R231      -719.8512    157.485     -4.571      0.000     -1028.526  -411.177\n",
      "unit_R232      -629.0833    161.486     -3.896      0.000      -945.599  -312.568\n",
      "unit_R233      -533.1968    164.842     -3.235      0.001      -856.290  -210.104\n",
      "unit_R234     -1324.7653    163.389     -8.108      0.000     -1645.010 -1004.520\n",
      "unit_R235       866.0413    155.784      5.559      0.000       560.702  1171.380\n",
      "unit_R236      -163.7449    157.562     -1.039      0.299      -472.570   145.080\n",
      "unit_R237     -1000.4021    163.413     -6.122      0.000     -1320.695  -680.109\n",
      "unit_R238       402.0332    156.316      2.572      0.010        95.650   708.417\n",
      "unit_R239      -815.5047    155.374     -5.249      0.000     -1120.041  -510.969\n",
      "unit_R240       961.5871    156.628      6.139      0.000       654.594  1268.581\n",
      "unit_R242     -1128.2786    158.775     -7.106      0.000     -1439.481  -817.076\n",
      "unit_R243      -283.5540    161.587     -1.755      0.079      -600.267    33.159\n",
      "unit_R244       -97.4165    161.521     -0.603      0.546      -414.002   219.169\n",
      "unit_R246      -973.1080    162.896     -5.974      0.000     -1292.387  -653.829\n",
      "unit_R247     -1490.1105    165.841     -8.985      0.000     -1815.162 -1165.060\n",
      "unit_R248      1394.6961    155.784      8.953      0.000      1089.355  1700.037\n",
      "unit_R249      -329.1329    157.922     -2.084      0.037      -638.662   -19.603\n",
      "unit_R250      -708.4203    158.783     -4.462      0.000     -1019.639  -397.202\n",
      "unit_R251      -423.3991    156.621     -2.703      0.007      -730.379  -116.419\n",
      "unit_R252      -744.3875    156.201     -4.766      0.000     -1050.544  -438.231\n",
      "unit_R253      -974.0147    162.131     -6.008      0.000     -1291.796  -656.234\n",
      "unit_R254       876.4384    156.303      5.607      0.000       570.082  1182.795\n",
      "unit_R255      -920.3085    157.965     -5.826      0.000     -1229.923  -610.694\n",
      "unit_R256      -650.8246    156.205     -4.166      0.000      -956.989  -344.660\n",
      "unit_R257       171.6674    155.374      1.105      0.269      -132.869   476.204\n",
      "unit_R258      -188.7100    156.617     -1.205      0.228      -495.682   118.262\n",
      "unit_R259      -757.5612    157.906     -4.798      0.000     -1067.059  -448.063\n",
      "unit_R260      -589.6884    169.555     -3.478      0.001      -922.019  -257.358\n",
      "unit_R261      -113.7298    159.754     -0.712      0.477      -426.850   199.391\n",
      "unit_R262     -1168.1896    165.841     -7.044      0.000     -1493.242  -843.138\n",
      "unit_R263     -1568.6546    158.779     -9.880      0.000     -1879.864 -1257.445\n",
      "unit_R264     -1247.3368    155.793     -8.006      0.000     -1552.694  -941.980\n",
      "unit_R265      -783.3501    161.962     -4.837      0.000     -1100.799  -465.901\n",
      "unit_R266      -799.0923    156.303     -5.112      0.000     -1105.450  -492.735\n",
      "unit_R269      -823.2386    156.199     -5.270      0.000     -1129.392  -517.085\n",
      "unit_R270     -1189.3745    162.909     -7.301      0.000     -1508.679  -870.070\n",
      "unit_R271     -1300.5810    162.408     -8.008      0.000     -1618.904  -982.258\n",
      "unit_R273      -344.8982    163.444     -2.110      0.035      -665.251   -24.545\n",
      "unit_R274      -740.4887    161.473     -4.586      0.000     -1056.979  -423.998\n",
      "unit_R275      -789.8649    159.853     -4.941      0.000     -1103.179  -476.551\n",
      "unit_R276      -305.7950    155.374     -1.968      0.049      -610.331    -1.259\n",
      "unit_R277     -1198.1516    167.366     -7.159      0.000     -1526.192  -870.111\n",
      "unit_R278     -1291.6370    161.955     -7.975      0.000     -1609.072  -974.202\n",
      "unit_R279      -918.5188    158.917     -5.780      0.000     -1229.999  -607.038\n",
      "unit_R280     -1030.3868    166.317     -6.195      0.000     -1356.372  -704.402\n",
      "unit_R281      -418.7835    157.890     -2.652      0.008      -728.251  -109.316\n",
      "unit_R282      -126.0106    156.216     -0.807      0.420      -432.197   180.176\n",
      "unit_R284      -935.9908    156.201     -5.992      0.000     -1242.147  -629.835\n",
      "unit_R285     -1101.3900    164.763     -6.685      0.000     -1424.329  -778.452\n",
      "unit_R287     -1100.6215    164.340     -6.697      0.000     -1422.732  -778.511\n",
      "unit_R291        87.4362    155.374      0.563      0.574      -217.100   391.972\n",
      "unit_R294      -747.3677    159.241     -4.693      0.000     -1059.483  -435.252\n",
      "unit_R295     -1100.5565    180.670     -6.092      0.000     -1454.673  -746.440\n",
      "unit_R300       496.5007    155.374      3.196      0.001       191.965   801.037\n",
      "unit_R303      -467.1832    157.914     -2.958      0.003      -776.698  -157.668\n",
      "unit_R304      -637.6777    156.208     -4.082      0.000      -943.849  -331.506\n",
      "unit_R307     -1320.5566    164.914     -8.008      0.000     -1643.792  -997.322\n",
      "unit_R308      -890.3670    161.617     -5.509      0.000     -1207.140  -573.594\n",
      "unit_R309      -895.6244    161.181     -5.557      0.000     -1211.542  -579.707\n",
      "unit_R310      -376.8688    162.942     -2.313      0.021      -696.238   -57.499\n",
      "unit_R311     -1301.5307    160.133     -8.128      0.000     -1615.396  -987.666\n",
      "unit_R312     -1381.1650    156.626     -8.818      0.000     -1688.156 -1074.174\n",
      "unit_R313     -1607.3692    165.407     -9.718      0.000     -1931.571 -1283.168\n",
      "unit_R318     -1167.3024    157.045     -7.433      0.000     -1475.115  -859.490\n",
      "unit_R319      -354.3825    158.352     -2.238      0.025      -664.755   -44.010\n",
      "unit_R321      -640.9025    155.374     -4.125      0.000      -945.439  -336.366\n",
      "unit_R322        59.2111    158.353      0.374      0.708      -251.164   369.586\n",
      "unit_R323      -418.0736    161.483     -2.589      0.010      -734.583  -101.564\n",
      "unit_R325     -1350.1110    160.768     -8.398      0.000     -1665.219 -1035.003\n",
      "unit_R330      -723.5314    159.240     -4.544      0.000     -1035.645  -411.418\n",
      "unit_R335     -1305.1391    166.209     -7.852      0.000     -1630.913  -979.365\n",
      "unit_R336     -1667.4260    166.245    -10.030      0.000     -1993.270 -1341.582\n",
      "unit_R337     -1626.0276    164.274     -9.898      0.000     -1948.008 -1304.047\n",
      "unit_R338     -1771.2283    161.491    -10.968      0.000     -2087.753 -1454.703\n",
      "unit_R341     -1224.0099    157.510     -7.771      0.000     -1532.732  -915.288\n",
      "unit_R344     -1229.4763    165.300     -7.438      0.000     -1553.468  -905.485\n",
      "unit_R345     -1227.9601    160.128     -7.669      0.000     -1541.814  -914.106\n",
      "unit_R346      -459.0959    160.568     -2.859      0.004      -773.813  -144.379\n",
      "unit_R348     -1564.4615    161.079     -9.712      0.000     -1880.179 -1248.744\n",
      "unit_R354     -1507.4070    164.729     -9.151      0.000     -1830.279 -1184.535\n",
      "unit_R356      -635.2259    160.709     -3.953      0.000      -950.218  -320.234\n",
      "unit_R358     -1480.7904    164.669     -8.993      0.000     -1803.545 -1158.036\n",
      "unit_R370     -1229.4057    159.668     -7.700      0.000     -1542.359  -916.452\n",
      "unit_R371     -1004.9516    161.498     -6.223      0.000     -1321.491  -688.412\n",
      "unit_R372      -996.6229    162.913     -6.118      0.000     -1315.935  -677.311\n",
      "unit_R373     -1078.4446    163.356     -6.602      0.000     -1398.626  -758.264\n",
      "unit_R382      -805.3356    160.113     -5.030      0.000     -1119.161  -491.510\n",
      "unit_R424     -1329.5924    164.859     -8.065      0.000     -1652.719 -1006.466\n",
      "unit_R429      -728.3437    157.130     -4.635      0.000     -1036.322  -420.365\n",
      "unit_R453        52.3572    166.333      0.315      0.753      -273.659   378.374\n",
      "unit_R454     -1600.9560    163.852     -9.771      0.000     -1922.109 -1279.803\n",
      "unit_R455     -1650.3995    163.385    -10.101      0.000     -1970.637 -1330.162\n",
      "unit_R456     -1510.3459    159.216     -9.486      0.000     -1822.413 -1198.279\n",
      "unit_R459     -1674.4423    226.025     -7.408      0.000     -2117.457 -1231.428\n",
      "unit_R464     -1801.7702    163.739    -11.004      0.000     -2122.702 -1480.839\n",
      "==============================================================================\n",
      "Omnibus:                    28296.440   Durbin-Watson:                   1.601\n",
      "Prob(Omnibus):                  0.000   Jarque-Bera (JB):           894171.816\n",
      "Skew:                           2.740   Prob(JB):                         0.00\n",
      "Kurtosis:                      24.752   Cond. No.                     1.28e+18\n",
      "==============================================================================\n",
      "\n",
      "Warnings:\n",
      "[1] Standard Errors assume that the covariance matrix of the errors is correctly specified.\n",
      "[2] The smallest eigenvalue is 2.61e-28. This might indicate that there are\n",
      "strong multicollinearity problems or that the design matrix is singular.\n"
     ]
    }
   ],
   "source": [
    "pred =  predictions(weather_data)\n"
   ]
  },
  {
   "cell_type": "code",
   "execution_count": 45,
   "metadata": {
    "collapsed": true
   },
   "outputs": [],
   "source": [
    "def compute_r_squared(data, predictions):\n",
    "    '''data - refers to data points collected\n",
    "       predictions - based on features selected we calculate \n",
    "    '''\n",
    "    mean_p = np.mean(data) # mean of observations\n",
    "    sse = np.sum((data-predictions)**2) #sum squared error\n",
    "    sst = np.sum((data-mean_p)**2) # total sum of squares\n",
    "\n",
    "    r_squared = 1 - ( sse / sst )\n",
    "    #print data.shape\n",
    "    #print predictions.shape\n",
    "    \n",
    "    return r_squared"
   ]
  },
  {
   "cell_type": "code",
   "execution_count": 46,
   "metadata": {
    "collapsed": false
   },
   "outputs": [
    {
     "name": "stdout",
     "output_type": "stream",
     "text": [
      "R-squared =  0.489231502009\n"
     ]
    }
   ],
   "source": [
    "dataPoints = weather_data['ENTRIESn_hourly']\n",
    "r_squared = compute_r_squared(dataPoints,pred)\n",
    "print \"R-squared = \",r_squared"
   ]
  },
  {
   "cell_type": "markdown",
   "metadata": {
    "collapsed": true
   },
   "source": [
    "####2.5 What is your model’s R2 (coefficients of determination) value?\n",
    "$ R^2$  = 0.48923\n",
    "\n",
    "####2.6 What does this R2 value mean for the goodness of fit for your regression model? Do you think this linear model to predict ridership is appropriate for this dataset, given this R2  value?\n",
    "\n",
    "This value seem like a good fit for the model since is superior to 0.40 and closer to 1.\n",
    "\n",
    "Let's take a look trough plotting some residuals for the model. Which looks like a normal distribution with mean = 0 and by having a peek that might indicated us to do further transformations to the dataset and check if the regression behaved slighlty better and of course have a better prediction."
   ]
  },
  {
   "cell_type": "code",
   "execution_count": 47,
   "metadata": {
    "collapsed": true
   },
   "outputs": [],
   "source": [
    "def plot_residuals(turnstile_weather, predictions):\n",
    "    plt.figure()\n",
    "    (turnstile_weather['EXITSn_hourly'] - predictions).hist(bins=80)\n",
    "    return plt"
   ]
  },
  {
   "cell_type": "code",
   "execution_count": 48,
   "metadata": {
    "collapsed": false
   },
   "outputs": [
    {
     "name": "stdout",
     "output_type": "stream",
     "text": [
      "<module 'matplotlib.pyplot' from '/home/laura/.local/lib/python2.7/site-packages/matplotlib/pyplot.pyc'>\n"
     ]
    },
    {
     "data": {
      "image/png": "[encoded data removed]",
      "text/plain": [
       "<matplotlib.figure.Figure at 0x7f6e74eb7910>"
      ]
     },
     "metadata": {},
     "output_type": "display_data"
    }
   ],
   "source": [
    "print plot_residuals(weather_data,pred)"
   ]
  },
  {
   "cell_type": "markdown",
   "metadata": {},
   "source": [
    "### Additional ( Linear regression with Gradient Descent ) \n",
    "\n",
    "For exploration of another ways to make the predictions, Linear regression Gradient descent has been applied. "
   ]
  },
  {
   "cell_type": "code",
   "execution_count": 49,
   "metadata": {
    "collapsed": true
   },
   "outputs": [],
   "source": [
    "def normalize_features(features):\n",
    "    '''\n",
    "    Returns the means and standard deviations of the given features, along with a normalized feature\n",
    "    matrix.\n",
    "    '''\n",
    "    means = np.mean(features, axis=0)\n",
    "    std_devs = np.std(features, axis=0)\n",
    "    normalized_features = (features - means) / std_devs\n",
    "    return means, std_devs, normalized_features\n",
    "\n",
    "def recover_params(means, std_devs, norm_intercept, norm_params):\n",
    "    '''\n",
    "    Recovers the weights for a linear model given parameters that were fitted using\n",
    "    normalized features. Takes the means and standard deviations of the original\n",
    "    features, along with the intercept and parameters computed using the normalized\n",
    "    features, and returns the intercept and parameters that correspond to the original\n",
    "    features.\n",
    "    '''\n",
    "    intercept = norm_intercept - np.sum(means * norm_params / std_devs)\n",
    "    params = norm_params / std_devs\n",
    "    return intercept, params\n",
    "\n",
    "def linear_regression(features, values):\n",
    "    \"\"\"\n",
    "    Perform linear regression given a data set with an arbitrary number of features.\n",
    "    \"\"\"\n",
    "    clf = SGDRegressor(n_iter=1500)\n",
    "    clf.fit(features, values)\n",
    "    intercept = clf.intercept_\n",
    "    params = clf.coef_\n",
    " \n",
    "    return intercept, params\n",
    "\n",
    "def predictions(dataframe):\n",
    "    '''\n",
    "    Let's predict the ridership of cthe NYC subway using linear regression with gradient descent.\n",
    "    '''\n",
    "    \n",
    "    features =  dataframe[['hour','rain','fog','precipi','tempi','wspdi','pressurei',\\\n",
    "                          'meantempi','meanprecipi','meanwspdi','meanpressurei', \\\n",
    "                          'weekday','day_week']]\n",
    "    \n",
    "    dummy_units = pd.get_dummies(dataframe['UNIT'], prefix='unit')\n",
    "    features = features.join(dummy_units)\n",
    "\n",
    "    # Values\n",
    "    values = dataframe['ENTRIESn_hourly']\n",
    "\n",
    "    # Get numpy arrays\n",
    "    features_array = features.values\n",
    "    values_array = values.values\n",
    "\n",
    "    means, std_devs, normalized_features_array = normalize_features(features_array)\n",
    "\n",
    "    # Perform gradient descent\n",
    "    norm_intercept, norm_params = linear_regression(normalized_features_array, values_array)\n",
    "\n",
    "    intercept, params = recover_params(means, std_devs, norm_intercept, norm_params)\n",
    "\n",
    "    predictions = intercept + np.dot(features_array, params)\n",
    "\n",
    "    return predictions\n"
   ]
  },
  {
   "cell_type": "code",
   "execution_count": 50,
   "metadata": {
    "collapsed": false
   },
   "outputs": [
    {
     "name": "stdout",
     "output_type": "stream",
     "text": [
      "R-squared =  0.483483010174\n"
     ]
    }
   ],
   "source": [
    "#get predictions from gradient descent \n",
    "pred_gd = predictions(weather_data)\n",
    "\n",
    "#calculate r-squared for Gradient descent predictions \n",
    "r_squared = compute_r_squared(dataPoints,pred_gd)\n",
    "print \"R-squared = \",r_squared\n"
   ]
  },
  {
   "cell_type": "markdown",
   "metadata": {},
   "source": [
    "##Section 3. Visualization\n",
    "\n",
    "\n"
   ]
  },
  {
   "cell_type": "code",
   "execution_count": 57,
   "metadata": {
    "collapsed": false
   },
   "outputs": [],
   "source": [
    "def entries_histogram_rain(turnstile_weather):\n",
    "    \n",
    "    r_plot = ggplot(aes(x='ENTRIESn_hourly'), turnstile_weather) + geom_histogram(binwidth=1000, colour = \"black\",\\\n",
    "                                                                                  fill=\"blue\")\n",
    "    return r_plot\n",
    "\n",
    "weather_rain = weather_data[weather_data.rain == 1]\n"
   ]
  },
  {
   "cell_type": "markdown",
   "metadata": {},
   "source": [
    "### Histogram of Entries by Hour"
   ]
  },
  {
   "cell_type": "code",
   "execution_count": 58,
   "metadata": {
    "collapsed": false
   },
   "outputs": [
    {
     "data": {
      "image/png": "[encoded data removed]",
      "text/plain": [
       "<matplotlib.figure.Figure at 0x7f6e75d37610>"
      ]
     },
     "metadata": {},
     "output_type": "display_data"
    },
    {
     "name": "stdout",
     "output_type": "stream",
     "text": [
      "<ggplot: (8757024142917)>\n"
     ]
    }
   ],
   "source": [
    "print entries_histogram_rain(weather_rain)"
   ]
  },
  {
   "cell_type": "code",
   "execution_count": 61,
   "metadata": {
    "collapsed": false
   },
   "outputs": [],
   "source": [
    "def entries_histogram_Norain(turnstile_weather):\n",
    "      \n",
    "    r_plot = ggplot(aes(x='ENTRIESn_hourly'), turnstile_weather) + \\\n",
    "    geom_histogram(binwidth=1000,colour = \"black\", fill=\"green\" )\n",
    "    return r_plot\n",
    "\n",
    "weather_Norain = weather_data[weather_data.rain == 0]\n"
   ]
  },
  {
   "cell_type": "markdown",
   "metadata": {},
   "source": [
    "### Histogram of Entries by Hour"
   ]
  },
  {
   "cell_type": "code",
   "execution_count": 62,
   "metadata": {
    "collapsed": false
   },
   "outputs": [
    {
     "data": {
      "image/png": "[encoded data removed]",
      "text/plain": [
       "<matplotlib.figure.Figure at 0x7f6e6b1d2950>"
      ]
     },
     "metadata": {},
     "output_type": "display_data"
    },
    {
     "name": "stdout",
     "output_type": "stream",
     "text": [
      "<ggplot: (8757013762617)>\n"
     ]
    }
   ],
   "source": [
    "print entries_histogram_Norain(weather_Norain)"
   ]
  },
  {
   "cell_type": "code",
   "execution_count": 63,
   "metadata": {
    "collapsed": false
   },
   "outputs": [],
   "source": [
    "def plot_weather_data(turnstile_weather):\n",
    "\n",
    "    pd.options.mode.chained_assignment = None\n",
    "\n",
    "    g = turnstile_weather.groupby(['hour','day_week']).sum().reset_index()\n",
    "    pplot = ggplot(g, aes('hour', 'ENTRIESn_hourly', color='day_week')) + geom_point() + geom_line()\n",
    "    return pplot\n",
    "\n",
    "\n"
   ]
  },
  {
   "cell_type": "markdown",
   "metadata": {},
   "source": [
    "### Visualisation of Ridership by Hour and Day of Week."
   ]
  },
  {
   "cell_type": "code",
   "execution_count": 64,
   "metadata": {
    "collapsed": false
   },
   "outputs": [
    {
     "data": {
      "image/png": "[encoded data removed]",
      "text/plain": [
       "<matplotlib.figure.Figure at 0x7f6e75e82f90>"
      ]
     },
     "metadata": {},
     "output_type": "display_data"
    },
    {
     "name": "stdout",
     "output_type": "stream",
     "text": [
      "<ggplot: (8757013762621)>\n"
     ]
    }
   ],
   "source": [
    "print plot_weather_data(weather_data)"
   ]
  },
  {
   "cell_type": "markdown",
   "metadata": {
    "collapsed": false
   },
   "source": [
    "## Section 4. Conclusion\n",
    "\n",
    "####4.1 From your analysis and interpretation of the data, do more people ride the NYC subway when it is raining or when it is not raining?  \n",
    "\n",
    " Based on the analysis and interpretation of the data, more people ride the NYC when is not raining. \n",
    "\n",
    "####4.2 What analyses lead you to this conclusion? You should use results from both your statistical tests and your linear regression to support your analysis.\n",
    "\n",
    " Once the statistical test has been done, the rejection of the null hypothesis led us to confirm that the probability of Rain vs NoRain could be higher than 50% but might be presence of outliars so that We proceeded to execute linnear regresion by choosing features such as the ones related with the weather (fog,wind,rain and pressure) also the means for every of this features. \n",
    " \n",
    " After the execution of linear regression for least squares and gradient descent and with the $R^2$ of 0.48 obtained plus the chart for the residuals we can determined that the model for the prediction is a good fit since the mean is around cero. \n",
    " "
   ]
  },
  {
   "cell_type": "markdown",
   "metadata": {
    "collapsed": true
   },
   "source": [
    "## Section 5. Reflection\n",
    "\n",
    "####5.1 Please discuss potential shortcomings of the methods of your analysis, including:\n",
    "    Dataset: the dataset could be improved by wrangling the data for values such as day_week and filling or excluding empty values for rows were weigths were bigger. \n",
    "    Analysis: this project has been analysed carefully, nevertheless it could be improved by checking and adjusting multiple combinations of features.\n",
    "####5.2 (Optional) Do you have any other insight about the dataset that you would like to share with us?\n",
    "\n",
    "The dataset shared was understandble,  but I believe it could be better if from the beginning students will manipulated the improved dataset."
   ]
  }
 ],
 "metadata": {
  "kernelspec": {
   "display_name": "Python 2",
   "language": "python",
   "name": "python2"
  },
  "language_info": {
   "codemirror_mode": {
    "name": "ipython",
    "version": 2
   },
   "file_extension": ".py",
   "mimetype": "text/x-python",
   "name": "python",
   "nbconvert_exporter": "python",
   "pygments_lexer": "ipython2",
   "version": "2.7.10"
  }
 },
 "nbformat": 4,
 "nbformat_minor": 0
}
